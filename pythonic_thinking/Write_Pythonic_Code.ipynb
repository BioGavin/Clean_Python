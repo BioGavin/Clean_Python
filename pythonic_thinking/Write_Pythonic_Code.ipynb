{
 "cells": [
  {
   "cell_type": "markdown",
   "source": [
    "# 编写 Python 代码\n",
    "遵循 [PEP8](https://www.python.org/dev/peps/pep-0008/) 规范\n",
    "命名\n",
    "- 变量和函数：小写+下划线\n",
    "- 类：驼峰法\n",
    "- 常量：全部用大写字母定义\n",
    "- 函数和方法参数：小写+下划线"
   ],
   "metadata": {
    "collapsed": false
   }
  },
  {
   "cell_type": "markdown",
   "source": [
    "代码中的表达式和语句"
   ],
   "metadata": {
    "collapsed": false
   }
  },
  {
   "cell_type": "code",
   "execution_count": 2,
   "metadata": {
    "collapsed": true
   },
   "outputs": [
    {
     "data": {
      "text/plain": "[{'first_name': 'anni', 'age': 9},\n {'first_name': 'Buck', 'age': 10},\n {'first_name': 'Helen', 'age': 39}]"
     },
     "execution_count": 2,
     "metadata": {},
     "output_type": "execute_result"
    }
   ],
   "source": [
    "# 对嵌套字典进行排序\n",
    "users = [{'first_name': 'Helen', 'age': 39},\n",
    "         {'first_name': 'Buck', 'age': 10},\n",
    "         {'first_name': 'anni', 'age': 9}]\n",
    "users = sorted(users, key=lambda usr: usr[\"first_name\"].lower())\n",
    "users"
   ]
  },
  {
   "cell_type": "code",
   "execution_count": 4,
   "outputs": [
    {
     "data": {
      "text/plain": "[{'first_name': 'anni', 'age': 9},\n {'first_name': 'Buck', 'age': 10},\n {'first_name': 'Helen', 'age': 39}]"
     },
     "execution_count": 4,
     "metadata": {},
     "output_type": "execute_result"
    }
   ],
   "source": [
    "# 以函数形式对字典排序\n",
    "users = [{'first_name': 'Helen', 'age': 39},\n",
    "         {'first_name': 'Buck', 'age': 10},\n",
    "         {'first_name': 'anni', 'age': 9}]\n",
    "\n",
    "\n",
    "def get_user_name(user):\n",
    "    return user[\"first_name\"].lower()\n",
    "\n",
    "\n",
    "def get_sorted_dictionary(users):\n",
    "    if not isinstance(users, list):\n",
    "        raise ValueError(\"Not a correct dictionary\")\n",
    "    if not len(users):\n",
    "        raise ValueError(\"Empty dictionary\")\n",
    "    users_by_name = sorted(users, key=get_user_name)\n",
    "    return users_by_name\n",
    "\n",
    "\n",
    "get_sorted_dictionary(users)"
   ],
   "metadata": {
    "collapsed": false,
    "pycharm": {
     "name": "#%%\n"
    }
   }
  },
  {
   "cell_type": "markdown",
   "source": [
    "拥抱 Python 编写代码的方式"
   ],
   "metadata": {
    "collapsed": false
   }
  },
  {
   "cell_type": "code",
   "execution_count": 5,
   "outputs": [
    {
     "data": {
      "text/plain": "'Json smart'"
     },
     "execution_count": 5,
     "metadata": {},
     "output_type": "execute_result"
    }
   ],
   "source": [
    "# 使用 join 方法\n",
    "first_name = 'Json'\n",
    "last_name = 'smart'\n",
    "# Not a recommended way to concatenate string\n",
    "full_name = first_name + last_name\n",
    "\n",
    "# More performant and improve readability\n",
    "full_name = ' '.join([first_name, last_name])\n",
    "full_name"
   ],
   "metadata": {
    "collapsed": false,
    "pycharm": {
     "name": "#%%\n"
    }
   }
  },
  {
   "cell_type": "markdown",
   "source": [
    "在判断是否为 None 时考虑使用 is 和 is not\n",
    "if val:  # Will work when val is not None"
   ],
   "metadata": {
    "collapsed": false
   }
  },
  {
   "cell_type": "code",
   "execution_count": 6,
   "outputs": [
    {
     "name": "stdout",
     "output_type": "stream",
     "text": [
      "b\n"
     ]
    }
   ],
   "source": [
    "val = {}\n",
    "if val:\n",
    "    print('a')\n",
    "if val is not None:\n",
    "    print('b')"
   ],
   "metadata": {
    "collapsed": false,
    "pycharm": {
     "name": "#%%\n"
    }
   }
  },
  {
   "cell_type": "markdown",
   "source": [
    "更偏向使用 startswith() 和 endswith()"
   ],
   "metadata": {
    "collapsed": false
   }
  },
  {
   "cell_type": "code",
   "execution_count": 7,
   "outputs": [
    {
     "name": "stdout",
     "output_type": "stream",
     "text": [
      "Yes\n"
     ]
    }
   ],
   "source": [
    "string = 'Hello, how are you doing?'\n",
    "if string.startswith('Hello'):\n",
    "    print('Yes')"
   ],
   "metadata": {
    "collapsed": false,
    "pycharm": {
     "name": "#%%\n"
    }
   }
  },
  {
   "cell_type": "markdown",
   "source": [
    "比较类型时偏向使用 isinstance() 而不是 type()"
   ],
   "metadata": {
    "collapsed": false
   }
  },
  {
   "cell_type": "code",
   "execution_count": 8,
   "outputs": [
    {
     "name": "stdout",
     "output_type": "stream",
     "text": [
      "Input is a dict\n"
     ]
    }
   ],
   "source": [
    "user_ages = {\"Larry\": 20, \"John\": 21, \"Marry\": 31}\n",
    "if isinstance(user_ages, dict):\n",
    "    print('Input is a dict')"
   ],
   "metadata": {
    "collapsed": false,
    "pycharm": {
     "name": "#%%\n"
    }
   }
  },
  {
   "cell_type": "markdown",
   "source": [
    "为上下文管理器编写显示代码\n",
    "当使用 with 语句编写代码时，考虑使用函数来处理不同于资源获取和释放的其他任何操作"
   ],
   "metadata": {
    "collapsed": false
   }
  },
  {
   "cell_type": "code",
   "execution_count": null,
   "outputs": [],
   "source": [
    "# connection\n",
    "class NewProtocol:\n",
    "    def __init__(self, host, port):\n",
    "        self.host = host\n",
    "        self.port = port\n",
    "\n",
    "    def __enter__(self):\n",
    "        self._client = socket()\n",
    "        self._client.connect((self.host, self.port))\n",
    "\n",
    "    def __exit__(self, exc_type, exc_val, exc_tb):\n",
    "        self._client.close()\n",
    "\n",
    "    def transfer_data(self, payload):\n",
    "        pass\n",
    "\n",
    "    def receive_data(self):\n",
    "        pass\n",
    "\n",
    "\n",
    "with connection.NewProtocol(host, port):\n",
    "    transfer_data()"
   ],
   "metadata": {
    "collapsed": false,
    "pycharm": {
     "name": "#%%\n"
    }
   }
  }
 ],
 "metadata": {
  "kernelspec": {
   "display_name": "Python 3",
   "language": "python",
   "name": "python3"
  },
  "language_info": {
   "codemirror_mode": {
    "name": "ipython",
    "version": 2
   },
   "file_extension": ".py",
   "mimetype": "text/x-python",
   "name": "python",
   "nbconvert_exporter": "python",
   "pygments_lexer": "ipython2",
   "version": "2.7.6"
  }
 },
 "nbformat": 4,
 "nbformat_minor": 0
}