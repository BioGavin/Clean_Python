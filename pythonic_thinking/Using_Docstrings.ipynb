{
 "cells": [
  {
   "cell_type": "markdown",
   "source": [
    "# 使用文档字符串\n",
    "在 Python 中，文档字符串是使代码文档化的最有效的方法。\n",
    "文档字符串通常写在方法、类和模块的第一个语句。一个文档字符串是其对象的 \\_\\_doc__ 的特殊属性。"
   ],
   "metadata": {
    "collapsed": false
   }
  },
  {
   "cell_type": "markdown",
   "source": [
    "默认规则：\n",
    "- 即使字符串适合一行，也使用三重引号\n",
    "- 三重引号中的字符串前后不应有任何空行\n",
    "- 文档字符串的语句应使用句点(.)作为结束符"
   ],
   "metadata": {
    "collapsed": false
   }
  },
  {
   "cell_type": "markdown",
   "source": [
    "使用 Python3 类型标注 (typing) 模块编写函数"
   ],
   "metadata": {
    "collapsed": false
   }
  },
  {
   "cell_type": "code",
   "execution_count": null,
   "metadata": {
    "collapsed": true
   },
   "outputs": [],
   "source": [
    "def call_weather_api(url: str, location: str) -> str:\n",
    "    \"\"\"Get the weather of specific location.\n",
    "\n",
    "    Calling weather api to check for weather by using weather api\n",
    "    and location. Make sure you provide city name only, country and\n",
    "    county names won't be accepted and will throw exception if not\n",
    "    found the city name.\n",
    "    \"\"\"\n",
    "    pass"
   ]
  },
  {
   "cell_type": "markdown",
   "source": [
    "四种不同的文档字符串编写方式\n",
    "- Google\n",
    "- reStructuredText (Python 官方文档推荐)\n",
    "- NumPy\n",
    "- Epytext"
   ],
   "metadata": {
    "collapsed": false
   }
  },
  {
   "cell_type": "markdown",
   "source": [
    "模块级文档字符串应放在 import 之前\n",
    "提供模块描述信息，可以增加异常信息等"
   ],
   "metadata": {
    "collapsed": false
   }
  },
  {
   "cell_type": "markdown",
   "source": [
    "一些有用的文档字符串工具\n",
    "- [Sphinx](https://www.sphinx-doc.org): Python 最流行的文档工具\n",
    "- [Pycoo](https://pycco-docs.github.io/pycco): 并排显示代码和文档，是生成文档的快速方法\n",
    "- [Read the docs](https://readthedocs.org): 开源社区中最流行的工具，可以构建版本和托管文档\n",
    "- [Epydocs](http://epydoc.sourceforge.net): 基于 Python 模块的文档字符串生成 API 文档"
   ],
   "metadata": {
    "collapsed": false
   }
  }
 ],
 "metadata": {
  "kernelspec": {
   "display_name": "Python 3",
   "language": "python",
   "name": "python3"
  },
  "language_info": {
   "codemirror_mode": {
    "name": "ipython",
    "version": 2
   },
   "file_extension": ".py",
   "mimetype": "text/x-python",
   "name": "python",
   "nbconvert_exporter": "python",
   "pygments_lexer": "ipython2",
   "version": "2.7.6"
  }
 },
 "nbformat": 4,
 "nbformat_minor": 0
}