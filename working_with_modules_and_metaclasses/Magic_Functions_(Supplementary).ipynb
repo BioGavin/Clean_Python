{
 "cells": [
  {
   "cell_type": "markdown",
   "source": [
    "# 魔法方法"
   ],
   "metadata": {
    "collapsed": false
   }
  },
  {
   "cell_type": "markdown",
   "source": [
    "\\_\\_init__() 实例化的时候触发"
   ],
   "metadata": {
    "collapsed": false
   }
  },
  {
   "cell_type": "code",
   "execution_count": 15,
   "metadata": {
    "collapsed": true
   },
   "outputs": [
    {
     "name": "stdout",
     "output_type": "stream",
     "text": [
      "repr\n"
     ]
    }
   ],
   "source": [
    "class A(object):\n",
    "    def __init__(self, str):\n",
    "        self.str = str\n",
    "\n",
    "    def __len__(self):\n",
    "        return len(self.str) + 1\n",
    "\n",
    "    def __hash__(self):\n",
    "        return 111110000\n",
    "\n",
    "    # def __str__(self):\n",
    "    #     return \"strr\"\n",
    "\n",
    "    def __repr__(self):\n",
    "        return 'repr'\n",
    "\n",
    "\n",
    "a = A('gavin')\n",
    "# len(a)  # 触发 len\n",
    "# hash(a)  # 触发 hash\n",
    "# print(a)  # 触发 str\n",
    "# str(a)  # 触发 str\n",
    "print(a)  # 当 str 不存在时，触发 repr"
   ]
  },
  {
   "cell_type": "code",
   "execution_count": 17,
   "outputs": [
    {
     "name": "stdout",
     "output_type": "stream",
     "text": [
      "call\n"
     ]
    }
   ],
   "source": [
    "class A:\n",
    "    def func(self):\n",
    "        print('call')\n",
    "\n",
    "    def __call__(self, *args, **kwargs):\n",
    "        self.func()\n",
    "\n",
    "\n",
    "a = A()\n",
    "a()  # 对象加括号，调用类中的 call"
   ],
   "metadata": {
    "collapsed": false,
    "pycharm": {
     "name": "#%%\n"
    }
   }
  },
  {
   "cell_type": "markdown",
   "source": [
    "单例模式"
   ],
   "metadata": {
    "collapsed": false
   }
  },
  {
   "cell_type": "code",
   "execution_count": 39,
   "outputs": [
    {
     "name": "stdout",
     "output_type": "stream",
     "text": [
      "4362351520 4362351520\n",
      "alex alex\n"
     ]
    }
   ],
   "source": [
    "class A():\n",
    "    __a = None\n",
    "\n",
    "    def __init__(self, name):  # 封装对象属性\n",
    "        self.name = name\n",
    "\n",
    "    def __new__(cls, *args, **kwargs):  # 创建对象空间\n",
    "        if cls.__a is None:  # cls 指当前类\n",
    "            cls.__a = super().__new__(cls)  # 让父类开辟空间\n",
    "        return cls.__a\n",
    "\n",
    "\n",
    "a1 = A('gavin')\n",
    "a2 = A('alex')\n",
    "print(id(a1), id(a2))\n",
    "print(a1.name, a2.name)"
   ],
   "metadata": {
    "collapsed": false,
    "pycharm": {
     "name": "#%%\n"
    }
   }
  },
  {
   "cell_type": "code",
   "execution_count": 63,
   "outputs": [
    {
     "name": "stdout",
     "output_type": "stream",
     "text": [
      "setitem\n",
      "delitem\n"
     ]
    },
    {
     "ename": "AttributeError",
     "evalue": "'A' object has no attribute 'name'",
     "output_type": "error",
     "traceback": [
      "\u001B[0;31m---------------------------------------------------------------------------\u001B[0m",
      "\u001B[0;31mAttributeError\u001B[0m                            Traceback (most recent call last)",
      "\u001B[0;32m/var/folders/3c/v18vsqt50jzgnmgzv858z_rm0000gn/T/ipykernel_57136/847827399.py\u001B[0m in \u001B[0;36m<module>\u001B[0;34m\u001B[0m\n\u001B[1;32m     18\u001B[0m \u001B[0ma\u001B[0m\u001B[0;34m[\u001B[0m\u001B[0;34m'age'\u001B[0m\u001B[0;34m]\u001B[0m \u001B[0;34m=\u001B[0m \u001B[0;36m21\u001B[0m\u001B[0;34m\u001B[0m\u001B[0;34m\u001B[0m\u001B[0m\n\u001B[1;32m     19\u001B[0m \u001B[0;32mdel\u001B[0m \u001B[0ma\u001B[0m\u001B[0;34m[\u001B[0m\u001B[0;34m'name'\u001B[0m\u001B[0;34m]\u001B[0m\u001B[0;34m\u001B[0m\u001B[0;34m\u001B[0m\u001B[0m\n\u001B[0;32m---> 20\u001B[0;31m \u001B[0ma\u001B[0m\u001B[0;34m.\u001B[0m\u001B[0mname\u001B[0m\u001B[0;34m\u001B[0m\u001B[0;34m\u001B[0m\u001B[0m\n\u001B[0m",
      "\u001B[0;31mAttributeError\u001B[0m: 'A' object has no attribute 'name'"
     ]
    }
   ],
   "source": [
    "class A:\n",
    "    def __init__(self, name=None):\n",
    "        self.name = name\n",
    "\n",
    "    def __getitem__(self, item):\n",
    "        print('getitem')\n",
    "        return self.__dict__[item]\n",
    "\n",
    "    def __setitem__(self, key, value):\n",
    "        print('setitem')\n",
    "        self.__dict__[key] = value\n",
    "\n",
    "    def __delitem__(self, key):\n",
    "        self.__dict__.pop(key)\n",
    "        print('delitem')\n",
    "\n",
    "\n",
    "a = A('gavin')\n",
    "a['age'] = 21\n",
    "del a['name']\n",
    "a.name"
   ],
   "metadata": {
    "collapsed": false,
    "pycharm": {
     "name": "#%%\n"
    }
   }
  },
  {
   "cell_type": "code",
   "execution_count": 69,
   "outputs": [
    {
     "name": "stdout",
     "output_type": "stream",
     "text": [
      "setattr\n",
      "delattr\n",
      "getattr\n"
     ]
    },
    {
     "ename": "KeyError",
     "evalue": "'age'",
     "output_type": "error",
     "traceback": [
      "\u001B[0;31m---------------------------------------------------------------------------\u001B[0m",
      "\u001B[0;31mKeyError\u001B[0m                                  Traceback (most recent call last)",
      "\u001B[0;32m/var/folders/3c/v18vsqt50jzgnmgzv858z_rm0000gn/T/ipykernel_57136/2615980645.py\u001B[0m in \u001B[0;36m<module>\u001B[0;34m\u001B[0m\n\u001B[1;32m     17\u001B[0m \u001B[0ma\u001B[0m \u001B[0;34m=\u001B[0m \u001B[0mA\u001B[0m\u001B[0;34m(\u001B[0m\u001B[0;34m'gavin'\u001B[0m\u001B[0;34m)\u001B[0m\u001B[0;34m\u001B[0m\u001B[0;34m\u001B[0m\u001B[0m\n\u001B[1;32m     18\u001B[0m \u001B[0;32mdel\u001B[0m \u001B[0ma\u001B[0m\u001B[0;34m.\u001B[0m\u001B[0mname\u001B[0m\u001B[0;34m\u001B[0m\u001B[0;34m\u001B[0m\u001B[0m\n\u001B[0;32m---> 19\u001B[0;31m \u001B[0ma\u001B[0m\u001B[0;34m.\u001B[0m\u001B[0mage\u001B[0m\u001B[0;34m\u001B[0m\u001B[0;34m\u001B[0m\u001B[0m\n\u001B[0m",
      "\u001B[0;32m/var/folders/3c/v18vsqt50jzgnmgzv858z_rm0000gn/T/ipykernel_57136/2615980645.py\u001B[0m in \u001B[0;36m__getattr__\u001B[0;34m(self, item)\u001B[0m\n\u001B[1;32m      5\u001B[0m     \u001B[0;32mdef\u001B[0m \u001B[0m__getattr__\u001B[0m\u001B[0;34m(\u001B[0m\u001B[0mself\u001B[0m\u001B[0;34m,\u001B[0m \u001B[0mitem\u001B[0m\u001B[0;34m)\u001B[0m\u001B[0;34m:\u001B[0m\u001B[0;34m\u001B[0m\u001B[0;34m\u001B[0m\u001B[0m\n\u001B[1;32m      6\u001B[0m         \u001B[0mprint\u001B[0m\u001B[0;34m(\u001B[0m\u001B[0;34m'getattr'\u001B[0m\u001B[0;34m)\u001B[0m\u001B[0;34m\u001B[0m\u001B[0;34m\u001B[0m\u001B[0m\n\u001B[0;32m----> 7\u001B[0;31m         \u001B[0;32mreturn\u001B[0m \u001B[0mself\u001B[0m\u001B[0;34m.\u001B[0m\u001B[0m__dict__\u001B[0m\u001B[0;34m[\u001B[0m\u001B[0mitem\u001B[0m\u001B[0;34m]\u001B[0m\u001B[0;34m\u001B[0m\u001B[0;34m\u001B[0m\u001B[0m\n\u001B[0m\u001B[1;32m      8\u001B[0m \u001B[0;34m\u001B[0m\u001B[0m\n\u001B[1;32m      9\u001B[0m     \u001B[0;32mdef\u001B[0m \u001B[0m__setattr__\u001B[0m\u001B[0;34m(\u001B[0m\u001B[0mself\u001B[0m\u001B[0;34m,\u001B[0m \u001B[0mkey\u001B[0m\u001B[0;34m,\u001B[0m \u001B[0mvalue\u001B[0m\u001B[0;34m)\u001B[0m\u001B[0;34m:\u001B[0m\u001B[0;34m\u001B[0m\u001B[0;34m\u001B[0m\u001B[0m\n",
      "\u001B[0;31mKeyError\u001B[0m: 'age'"
     ]
    }
   ],
   "source": [
    "class A:\n",
    "    def __init__(self, name=None):\n",
    "        self.name = name\n",
    "\n",
    "    def __getattr__(self, item):\n",
    "        print('getattr')\n",
    "        return self.__dict__[item]\n",
    "\n",
    "    def __setattr__(self, key, value):\n",
    "        print('setattr')\n",
    "        self.__dict__[key] = value\n",
    "\n",
    "    def __delattr__(self, item):\n",
    "        print('delattr')\n",
    "\n",
    "\n",
    "a = A('gavin')\n",
    "del a.name\n",
    "a.age"
   ],
   "metadata": {
    "collapsed": false,
    "pycharm": {
     "name": "#%%\n"
    }
   }
  },
  {
   "cell_type": "markdown",
   "source": [
    "上下文管理"
   ],
   "metadata": {
    "collapsed": false
   }
  },
  {
   "cell_type": "code",
   "execution_count": 71,
   "outputs": [
    {
     "name": "stdout",
     "output_type": "stream",
     "text": [
      "1\n"
     ]
    }
   ],
   "source": [
    "class A:\n",
    "    def __init__(self, name):\n",
    "        self.name = name\n",
    "    def func(self):\n",
    "        print('test')\n",
    "    def __enter__(self):\n",
    "        return 1\n",
    "    def __exit__(self, exc_type, exc_val, exc_tb):\n",
    "        pass\n",
    "with A(\"gavin\") as f:  # f是上文返回内容\n",
    "    print(f)"
   ],
   "metadata": {
    "collapsed": false,
    "pycharm": {
     "name": "#%%\n"
    }
   }
  },
  {
   "cell_type": "code",
   "execution_count": 74,
   "outputs": [
    {
     "name": "stdout",
     "output_type": "stream",
     "text": [
      "test\n",
      "exit\n"
     ]
    }
   ],
   "source": [
    "class A:\n",
    "    def __init__(self, name):\n",
    "        self.name = name\n",
    "    def func(self):\n",
    "        print('test')\n",
    "    def __enter__(self):  # 定义上文\n",
    "        return self\n",
    "    def __exit__(self, exc_type, exc_val, exc_tb):  # 定义下文\n",
    "        print('exit')\n",
    "with A(\"gavin\") as f:  # f是上文返回内容\n",
    "    f.func()  # 结束时触发下文"
   ],
   "metadata": {
    "collapsed": false,
    "pycharm": {
     "name": "#%%\n"
    }
   }
  }
 ],
 "metadata": {
  "kernelspec": {
   "display_name": "Python 3",
   "language": "python",
   "name": "python3"
  },
  "language_info": {
   "codemirror_mode": {
    "name": "ipython",
    "version": 2
   },
   "file_extension": ".py",
   "mimetype": "text/x-python",
   "name": "python",
   "nbconvert_exporter": "python",
   "pygments_lexer": "ipython2",
   "version": "2.7.6"
  }
 },
 "nbformat": 4,
 "nbformat_minor": 0
}