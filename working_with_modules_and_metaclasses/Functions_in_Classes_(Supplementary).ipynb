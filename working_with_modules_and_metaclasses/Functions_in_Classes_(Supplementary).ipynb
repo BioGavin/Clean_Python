{
 "cells": [
  {
   "cell_type": "markdown",
   "source": [
    "# 类方法介绍\n",
    "- 类方法\n",
    "- 静态方法\n",
    "- 对象方法"
   ],
   "metadata": {
    "collapsed": false
   }
  },
  {
   "cell_type": "markdown",
   "source": [
    "@classmethod 类方法"
   ],
   "metadata": {
    "collapsed": false
   }
  },
  {
   "cell_type": "code",
   "execution_count": 1,
   "metadata": {
    "collapsed": true
   },
   "outputs": [
    {
     "name": "stdout",
     "output_type": "stream",
     "text": [
      "这是类方法\n"
     ]
    }
   ],
   "source": [
    "class A():\n",
    "    @classmethod\n",
    "    def func(cls):\n",
    "        print('这是类方法')\n",
    "\n",
    "\n",
    "A.func()  # 可以直接用类名操作类方法"
   ]
  },
  {
   "cell_type": "markdown",
   "source": [
    "@staticmethod 静态方法，就是一个普通函数"
   ],
   "metadata": {
    "collapsed": false
   }
  },
  {
   "cell_type": "code",
   "execution_count": 4,
   "outputs": [
    {
     "name": "stdout",
     "output_type": "stream",
     "text": [
      "这是静态方法\n",
      "这是静态方法\n"
     ]
    }
   ],
   "source": [
    "class A():\n",
    "    @classmethod\n",
    "    def func(cls):\n",
    "        print('这是类方法')\n",
    "\n",
    "    @staticmethod\n",
    "    def foo():\n",
    "        print('这是静态方法')\n",
    "\n",
    "\n",
    "a = A()\n",
    "a.foo()\n",
    "\n",
    "A.foo()"
   ],
   "metadata": {
    "collapsed": false,
    "pycharm": {
     "name": "#%%\n"
    }
   }
  },
  {
   "cell_type": "markdown",
   "source": [
    "对象方法，只有在实例化对象后才能调用"
   ],
   "metadata": {
    "collapsed": false
   }
  },
  {
   "cell_type": "code",
   "execution_count": 5,
   "outputs": [
    {
     "name": "stdout",
     "output_type": "stream",
     "text": [
      "这是对象方法\n"
     ]
    }
   ],
   "source": [
    "class A():\n",
    "    @classmethod\n",
    "    def func(cls):\n",
    "        print('这是类方法')\n",
    "\n",
    "    @staticmethod\n",
    "    def foo():\n",
    "        print('这是静态方法')\n",
    "\n",
    "    def f(self):\n",
    "        print('这是对象方法')\n",
    "\n",
    "\n",
    "a = A()\n",
    "a.f()"
   ],
   "metadata": {
    "collapsed": false,
    "pycharm": {
     "name": "#%%\n"
    }
   }
  },
  {
   "cell_type": "markdown",
   "source": [
    "@property 把一个方法伪装成属性"
   ],
   "metadata": {
    "collapsed": false
   }
  },
  {
   "cell_type": "code",
   "execution_count": 14,
   "outputs": [
    {
     "name": "stdout",
     "output_type": "stream",
     "text": [
      "22.30935640886966\n"
     ]
    }
   ],
   "source": [
    "class Bmi():\n",
    "\n",
    "    def __init__(self, name, height, weight):\n",
    "        self.name = name\n",
    "        self.height = height\n",
    "        self.weight = weight\n",
    "\n",
    "    @property\n",
    "    def bmi(self):\n",
    "        return self.weight / (self.height ** 2)\n",
    "\n",
    "\n",
    "gavin = Bmi('gavin', 1.72, 66)\n",
    "print(gavin.bmi)"
   ],
   "metadata": {
    "collapsed": false,
    "pycharm": {
     "name": "#%%\n"
    }
   }
  },
  {
   "cell_type": "code",
   "execution_count": 18,
   "outputs": [
    {
     "name": "stdout",
     "output_type": "stream",
     "text": [
      "22.30935640886966\n",
      "22.30935640886966\n"
     ]
    }
   ],
   "source": [
    "class Bmi():\n",
    "    def __init__(self, name, height, weight):\n",
    "        self.name = name\n",
    "        self.height = height\n",
    "        self.weight = weight\n",
    "\n",
    "    @property\n",
    "    def bmi(self) -> int:\n",
    "        return self.weight / (self.height ** 2)\n",
    "\n",
    "    @bmi.setter\n",
    "    def bmi(self, value):\n",
    "        pass\n",
    "\n",
    "    @bmi.deleter\n",
    "    def bmi(self):\n",
    "        pass\n",
    "\n",
    "\n",
    "gavin = Bmi('gavin', 1.72, 66)\n",
    "print(gavin.bmi)\n",
    "gavin.bmi = 20\n",
    "print(gavin.bmi)"
   ],
   "metadata": {
    "collapsed": false,
    "pycharm": {
     "name": "#%%\n"
    }
   }
  }
 ],
 "metadata": {
  "kernelspec": {
   "display_name": "Python 3",
   "language": "python",
   "name": "python3"
  },
  "language_info": {
   "codemirror_mode": {
    "name": "ipython",
    "version": 2
   },
   "file_extension": ".py",
   "mimetype": "text/x-python",
   "name": "python",
   "nbconvert_exporter": "python",
   "pygments_lexer": "ipython2",
   "version": "2.7.6"
  }
 },
 "nbformat": 4,
 "nbformat_minor": 0
}