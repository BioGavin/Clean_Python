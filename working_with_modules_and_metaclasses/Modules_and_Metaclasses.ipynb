{
 "cells": [
  {
   "cell_type": "markdown",
   "source": [
    "# 模块和元类\n",
    "\n",
    "元类是一个大的主题，但简而言之，它们是创建类的蓝图。换句话说，类创建一个实例，元类根据创建实例时的需求自动更改类的行为。"
   ],
   "metadata": {
    "collapsed": false
   }
  },
  {
   "cell_type": "markdown",
   "source": [
    "## 预备知识-元类\n",
    "在 Python 中基于类可以创建实例对象"
   ],
   "metadata": {
    "collapsed": false
   }
  },
  {
   "cell_type": "code",
   "execution_count": null,
   "outputs": [],
   "source": [
    "# 定义类\n",
    "class Foo(object):\n",
    "    def __init__(self, name):\n",
    "        self.name = name\n",
    "\n",
    "    def __new__(cls, *args, **kwargs):\n",
    "        data = object.__new__(cls)\n",
    "        return data\n",
    "\n",
    "\n",
    "# 根据类创建对象\n",
    "#   1. 执行类的new方法，创建对象（空对象）【构造方法】  {}\n",
    "#   2. 执行类的init方法，初始化对象。【初始化方法】  {name: 'Gavin'}\n",
    "obj = Foo('Gavin')"
   ],
   "metadata": {
    "collapsed": false,
    "pycharm": {
     "name": "#%%\n"
    }
   }
  },
  {
   "cell_type": "markdown",
   "source": [
    "类是由元类创建的\n",
    "类默认由Type创建，Type是一个元类"
   ],
   "metadata": {
    "collapsed": false
   }
  },
  {
   "cell_type": "code",
   "execution_count": 4,
   "outputs": [
    {
     "name": "stdout",
     "output_type": "stream",
     "text": [
      "123\n"
     ]
    }
   ],
   "source": [
    "# 传统方式创建\n",
    "class Foo(object):\n",
    "    v1 = 123\n",
    "\n",
    "    def func(self):\n",
    "        return 666\n",
    "\n",
    "\n",
    "# 非传统方式创建\n",
    "# type(__name__, __base__, attributes)\n",
    "# 组成：类名（字符串）、继承类（元组）、成员（字典）\n",
    "Fa = type(\"Foo\", (object,), {'v1': 123, 'func': lambda self: 666})\n",
    "\n",
    "obj = Fa()\n",
    "print(obj.v1)"
   ],
   "metadata": {
    "collapsed": false,
    "pycharm": {
     "name": "#%%\n"
    }
   }
  },
  {
   "cell_type": "markdown",
   "source": [
    "自定义创建元类"
   ],
   "metadata": {
    "collapsed": false
   }
  },
  {
   "cell_type": "code",
   "execution_count": 7,
   "outputs": [
    {
     "name": "stdout",
     "output_type": "stream",
     "text": [
      "new\n",
      "init\n",
      "<__main__.Foo object at 0x107c24fd0>\n",
      "Gavin\n"
     ]
    }
   ],
   "source": [
    "class MyType(type):\n",
    "    def __init__(self, *args, **kwargs):\n",
    "        print('init')\n",
    "        super().__init__(*args, **kwargs)\n",
    "\n",
    "    def __new__(cls, *args, **kwargs):\n",
    "        print('new')\n",
    "        # 创建类\n",
    "        new_cls = super().__new__(cls, *args, **kwargs)\n",
    "        return new_cls\n",
    "\n",
    "    def __call__(self, *args, **kwargs):\n",
    "        # 1. 调用自己的new方法来创建一个对象\n",
    "        empty_object = self.__new__(self)\n",
    "\n",
    "        # 2. 调用自己的init方法去初始化\n",
    "        self.__init__(empty_object, *args, **kwargs)\n",
    "        return empty_object\n",
    "\n",
    "\n",
    "class Foo(object, metaclass=MyType):\n",
    "    def __init__(self, name):\n",
    "        self.name = name\n",
    "\n",
    "\n",
    "foo = Foo('Gavin')\n",
    "print(foo)\n",
    "print(foo.name)\n",
    "\n",
    "# Foo 类由 MyType 创建，先执行元类的new方法，再执行元类的init方法\n",
    "# 元类创建类与类创建实例一样"
   ],
   "metadata": {
    "collapsed": false,
    "pycharm": {
     "name": "#%%\n"
    }
   }
  },
  {
   "cell_type": "markdown",
   "source": [
    "类中的 \\_\\_call__ 方法什么时候被调用？\n",
    "obj() 会执行 \\_\\_call__ 方法"
   ],
   "metadata": {
    "collapsed": false
   }
  },
  {
   "cell_type": "markdown",
   "source": [
    "单例模式"
   ],
   "metadata": {
    "collapsed": false
   }
  },
  {
   "cell_type": "code",
   "execution_count": 11,
   "outputs": [
    {
     "name": "stdout",
     "output_type": "stream",
     "text": [
      "<__main__.Foo object at 0x107c24dc0>\n",
      "<__main__.Foo object at 0x107c24dc0>\n"
     ]
    }
   ],
   "source": [
    "class MyType(type):\n",
    "    def __init__(self, name, bases, attrs):\n",
    "        super().__init__(name, bases, attrs)\n",
    "        self.instance = None\n",
    "\n",
    "    def __call__(self, *args, **kwargs):\n",
    "        if not self.instance:\n",
    "            self.instance = self.__new__(self)\n",
    "\n",
    "        self.__init__(self.instance, *args, **kwargs)\n",
    "\n",
    "        return self.instance\n",
    "\n",
    "\n",
    "class Singleton(object, metaclass=MyType):\n",
    "    pass\n",
    "\n",
    "\n",
    "class Foo(Singleton):\n",
    "    pass\n",
    "\n",
    "\n",
    "v1 = Foo()\n",
    "v2 = Foo()\n",
    "print(v1)\n",
    "print(v2)"
   ],
   "metadata": {
    "collapsed": false,
    "pycharm": {
     "name": "#%%\n"
    }
   }
  },
  {
   "cell_type": "markdown",
   "source": [
    "## 使用 \\_\\_init__ 文件\n",
    "使用  \\_\\_init__ 文件 可以将多个功能粘合在一起\n",
    "- purchase:\n",
    "    - \\_\\_init__.py\n",
    "    - cart.py\n",
    "    - payment.py"
   ],
   "metadata": {
    "collapsed": false
   }
  },
  {
   "cell_type": "code",
   "execution_count": null,
   "outputs": [],
   "source": [
    "# cart module\n",
    "class Cart:\n",
    "    def add_to_cart(self, cart, product):\n",
    "        self.execute_query_to_add(cart, product)\n",
    "        print(\"successfully added to cart\")\n",
    "\n",
    "\n",
    "# payment module\n",
    "class Payment:\n",
    "    def do_payment(self, user, amount):\n",
    "        self.execute_payment_query(user, amount)\n",
    "        print(f\"Payment of ${amount} successfully done!\")\n",
    "\n",
    "\n",
    "# __init__.py\n",
    "from . import Cart\n",
    "from . import Payment"
   ],
   "metadata": {
    "collapsed": false,
    "pycharm": {
     "name": "#%%\n"
    }
   }
  },
  {
   "cell_type": "markdown",
   "source": [
    "## 使用元类改变类的行为"
   ],
   "metadata": {
    "collapsed": false
   }
  },
  {
   "cell_type": "markdown",
   "source": [
    "防止直接创建对象"
   ],
   "metadata": {
    "collapsed": false
   }
  },
  {
   "cell_type": "code",
   "execution_count": 15,
   "outputs": [
    {
     "ename": "TypeError",
     "evalue": "NoClassInstance() takes no arguments",
     "output_type": "error",
     "traceback": [
      "\u001B[0;31m---------------------------------------------------------------------------\u001B[0m",
      "\u001B[0;31mTypeError\u001B[0m                                 Traceback (most recent call last)",
      "\u001B[0;32m/var/folders/3c/v18vsqt50jzgnmgzv858z_rm0000gn/T/ipykernel_94380/849489295.py\u001B[0m in \u001B[0;36m<module>\u001B[0;34m\u001B[0m\n\u001B[1;32m      3\u001B[0m         \u001B[0;32mraise\u001B[0m \u001B[0mTypeError\u001B[0m\u001B[0;34m(\u001B[0m\u001B[0;34m'Can\\'t instantiate directly'\u001B[0m\u001B[0;34m)\u001B[0m\u001B[0;34m\u001B[0m\u001B[0;34m\u001B[0m\u001B[0m\n\u001B[1;32m      4\u001B[0m \u001B[0;34m\u001B[0m\u001B[0m\n\u001B[0;32m----> 5\u001B[0;31m \u001B[0;32mclass\u001B[0m \u001B[0mUser\u001B[0m\u001B[0;34m(\u001B[0m\u001B[0mmetaclass\u001B[0m\u001B[0;34m=\u001B[0m\u001B[0mNoClassInstance\u001B[0m\u001B[0;34m)\u001B[0m\u001B[0;34m:\u001B[0m\u001B[0;34m\u001B[0m\u001B[0;34m\u001B[0m\u001B[0m\n\u001B[0m\u001B[1;32m      6\u001B[0m     \u001B[0;34m@\u001B[0m\u001B[0mstaticmethod\u001B[0m\u001B[0;34m\u001B[0m\u001B[0;34m\u001B[0m\u001B[0m\n\u001B[1;32m      7\u001B[0m     \u001B[0;32mdef\u001B[0m \u001B[0mprint_name\u001B[0m\u001B[0;34m(\u001B[0m\u001B[0mname\u001B[0m\u001B[0;34m)\u001B[0m\u001B[0;34m:\u001B[0m\u001B[0;34m\u001B[0m\u001B[0;34m\u001B[0m\u001B[0m\n",
      "\u001B[0;31mTypeError\u001B[0m: NoClassInstance() takes no arguments"
     ]
    }
   ],
   "source": [
    "class NoClassInstance:\n",
    "    def __call__(self, *args, **kwargs):\n",
    "        raise TypeError('Can\\'t instantiate directly')\n",
    "\n",
    "\n",
    "class User(metaclass=NoClassInstance):\n",
    "    @staticmethod\n",
    "    def print_name(name):\n",
    "        print(f'Name: {name}')\n",
    "\n",
    "\n",
    "user = User()"
   ],
   "metadata": {
    "collapsed": false,
    "pycharm": {
     "name": "#%%\n"
    }
   }
  },
  {
   "cell_type": "markdown",
   "source": [
    "使用 \\_\\_call__ 设计 API"
   ],
   "metadata": {
    "collapsed": false
   }
  },
  {
   "cell_type": "code",
   "execution_count": 1,
   "outputs": [
    {
     "ename": "NameError",
     "evalue": "name 'add' is not defined",
     "output_type": "error",
     "traceback": [
      "\u001B[0;31m---------------------------------------------------------------------------\u001B[0m",
      "\u001B[0;31mNameError\u001B[0m                                 Traceback (most recent call last)",
      "\u001B[0;32m/var/folders/3c/v18vsqt50jzgnmgzv858z_rm0000gn/T/ipykernel_95753/3945910126.py\u001B[0m in \u001B[0;36m<module>\u001B[0;34m\u001B[0m\n\u001B[1;32m     15\u001B[0m \u001B[0;34m\u001B[0m\u001B[0m\n\u001B[1;32m     16\u001B[0m \u001B[0;34m\u001B[0m\u001B[0m\n\u001B[0;32m---> 17\u001B[0;31m \u001B[0madd\u001B[0m \u001B[0;34m=\u001B[0m \u001B[0mCalculation\u001B[0m\u001B[0;34m(\u001B[0m\u001B[0madd\u001B[0m\u001B[0;34m)\u001B[0m\u001B[0;34m\u001B[0m\u001B[0;34m\u001B[0m\u001B[0m\n\u001B[0m\u001B[1;32m     18\u001B[0m \u001B[0mprint\u001B[0m\u001B[0;34m(\u001B[0m\u001B[0madd\u001B[0m\u001B[0;34m(\u001B[0m\u001B[0;36m5\u001B[0m\u001B[0;34m,\u001B[0m \u001B[0;36m4\u001B[0m\u001B[0;34m)\u001B[0m\u001B[0;34m)\u001B[0m\u001B[0;34m\u001B[0m\u001B[0;34m\u001B[0m\u001B[0m\n",
      "\u001B[0;31mNameError\u001B[0m: name 'add' is not defined"
     ]
    }
   ],
   "source": [
    "class Calculation:\n",
    "    def __init__(self, operation):\n",
    "        self.operation = operation\n",
    "\n",
    "    def __call__(self, fist_number, second_number):\n",
    "        if isinstance(fist_number, int) and isinstance(second_number, int):\n",
    "            return self.operation()\n",
    "        raise ValueError(\"Provide numbers\")\n",
    "\n",
    "    def add(self, first, second):\n",
    "        return first + second\n",
    "\n",
    "    def multiply(self, first, second):\n",
    "        return first * second\n",
    "\n",
    "\n",
    "add = Calculation(add)\n",
    "print(add(5, 4))"
   ],
   "metadata": {
    "collapsed": false,
    "pycharm": {
     "name": "#%%\n"
    }
   }
  }
 ],
 "metadata": {
  "kernelspec": {
   "display_name": "Python 3",
   "language": "python",
   "name": "python3"
  },
  "language_info": {
   "codemirror_mode": {
    "name": "ipython",
    "version": 2
   },
   "file_extension": ".py",
   "mimetype": "text/x-python",
   "name": "python",
   "nbconvert_exporter": "python",
   "pygments_lexer": "ipython2",
   "version": "2.7.6"
  }
 },
 "nbformat": 4,
 "nbformat_minor": 0
}