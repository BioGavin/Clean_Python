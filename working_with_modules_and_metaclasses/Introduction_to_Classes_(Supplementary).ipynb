{
 "cells": [
  {
   "cell_type": "markdown",
   "source": [
    "# 关于类的深入探究"
   ],
   "metadata": {
    "collapsed": false
   }
  },
  {
   "cell_type": "markdown",
   "source": [
    "通过实例化类对象访问类属性的查询路径是先从对象空间查找，再从类空间查找，如果继承了父类，最后还可以从父类空间查找"
   ],
   "metadata": {
    "collapsed": false
   }
  },
  {
   "cell_type": "code",
   "execution_count": 5,
   "metadata": {
    "collapsed": true,
    "pycharm": {
     "name": "#%%\n"
    }
   },
   "outputs": [
    {
     "name": "stdout",
     "output_type": "stream",
     "text": [
      "4397117744 4397117744 4398250096\n"
     ]
    }
   ],
   "source": [
    "class Person():\n",
    "    name = 'Gavin'\n",
    "    age = 21\n",
    "    sex = 'male'\n",
    "\n",
    "    def learn(self):\n",
    "        print(\"learning\")\n",
    "\n",
    "    def work(self):\n",
    "        print(\"working\")\n",
    "\n",
    "\n",
    "id1 = id(Person.name)\n",
    "p = Person()\n",
    "id2 = id(p.name)\n",
    "p.name = 'alex'\n",
    "id3 = id(p.name)\n",
    "\n",
    "print(id1, id2, id3)"
   ]
  },
  {
   "cell_type": "markdown",
   "source": [
    "什么是 self\n",
    "类中的 self 可以理解为类实例化后的对象"
   ],
   "metadata": {
    "collapsed": false
   }
  },
  {
   "cell_type": "code",
   "execution_count": 10,
   "outputs": [
    {
     "name": "stdout",
     "output_type": "stream",
     "text": [
      "4370193904\n",
      "learning\n",
      "4389295392\n",
      "learning\n",
      "4389295392\n"
     ]
    }
   ],
   "source": [
    "class Person():\n",
    "    name = 'Gavin'\n",
    "    age = 21\n",
    "    sex = 'male'\n",
    "\n",
    "    def learn(self):\n",
    "        print(id(self))\n",
    "        print(\"learning\")\n",
    "\n",
    "    def work(self):\n",
    "        print(\"working\")\n",
    "\n",
    "\n",
    "Person.learn('python')  # 通过类名操作类方法时，必须在learn函数里面传入实参\n",
    "p = Person()\n",
    "p.learn()  # 实例化后调用learn函数不用传参，因为对象操作类方法时会将对象本身当作参数隐形传参\n",
    "print(id(p))"
   ],
   "metadata": {
    "collapsed": false,
    "pycharm": {
     "name": "#%%\n"
    }
   }
  },
  {
   "cell_type": "markdown",
   "source": [
    "## 初始化函数 \\_\\_init__()\n",
    "给对象空间封装属性\n",
    "类名+() 即实例化类时，会触发 init 函数"
   ],
   "metadata": {
    "collapsed": false
   }
  },
  {
   "cell_type": "code",
   "execution_count": 14,
   "outputs": [
    {
     "name": "stdout",
     "output_type": "stream",
     "text": [
      "init\n"
     ]
    },
    {
     "data": {
      "text/plain": "<__main__.Person at 0x10620cb50>"
     },
     "execution_count": 14,
     "metadata": {},
     "output_type": "execute_result"
    }
   ],
   "source": [
    "class Person():\n",
    "    def __init__(self, name, age, sex):\n",
    "        self.name = name\n",
    "        self.age = age\n",
    "        self.sex = sex\n",
    "        print('init')\n",
    "\n",
    "    def learn(self):\n",
    "        print(id(self))\n",
    "        print(\"learning\")\n",
    "\n",
    "    def work(self):\n",
    "        print(\"working\")\n",
    "\n",
    "\n",
    "Person('gavin', 21, 'male')"
   ],
   "metadata": {
    "collapsed": false,
    "pycharm": {
     "name": "#%%\n"
    }
   }
  },
  {
   "cell_type": "markdown",
   "source": [
    "## 类成员\n",
    "私有成员与公有成员"
   ],
   "metadata": {
    "collapsed": false
   }
  },
  {
   "cell_type": "code",
   "execution_count": 17,
   "outputs": [
    {
     "name": "stdout",
     "output_type": "stream",
     "text": [
      "4398277552\n",
      "China\n",
      "4398277552\n"
     ]
    }
   ],
   "source": [
    "class Person():\n",
    "    nationality = 'China'  # 公有类变量，所有实例化对象都能访问\n",
    "    print(id(nationality))\n",
    "\n",
    "    def __init__(self, name, age, sex):\n",
    "        self.name = name\n",
    "        self.age = age\n",
    "        self.sex = sex\n",
    "\n",
    "    def learn(self):\n",
    "        print(id(self))\n",
    "        print(\"learning\")\n",
    "\n",
    "    def work(self):\n",
    "        print(\"working\")\n",
    "\n",
    "\n",
    "p1 = Person('gavin', 21, 'male')\n",
    "print(p1.nationality)\n",
    "print(id(p1.nationality))"
   ],
   "metadata": {
    "collapsed": false,
    "pycharm": {
     "name": "#%%\n"
    }
   }
  },
  {
   "cell_type": "code",
   "execution_count": 25,
   "outputs": [
    {
     "name": "stdout",
     "output_type": "stream",
     "text": [
      "10\n"
     ]
    },
    {
     "ename": "AttributeError",
     "evalue": "type object 'Person' has no attribute '__a'",
     "output_type": "error",
     "traceback": [
      "\u001B[0;31m---------------------------------------------------------------------------\u001B[0m",
      "\u001B[0;31mAttributeError\u001B[0m                            Traceback (most recent call last)",
      "\u001B[0;32m/var/folders/3c/v18vsqt50jzgnmgzv858z_rm0000gn/T/ipykernel_909/2878195943.py\u001B[0m in \u001B[0;36m<module>\u001B[0;34m\u001B[0m\n\u001B[1;32m     18\u001B[0m \u001B[0;34m\u001B[0m\u001B[0m\n\u001B[1;32m     19\u001B[0m \u001B[0mp1\u001B[0m \u001B[0;34m=\u001B[0m \u001B[0mPerson\u001B[0m\u001B[0;34m(\u001B[0m\u001B[0;34m'gavin'\u001B[0m\u001B[0;34m,\u001B[0m \u001B[0;36m21\u001B[0m\u001B[0;34m,\u001B[0m \u001B[0;34m'male'\u001B[0m\u001B[0;34m)\u001B[0m\u001B[0;34m\u001B[0m\u001B[0;34m\u001B[0m\u001B[0m\n\u001B[0;32m---> 20\u001B[0;31m \u001B[0mprint\u001B[0m\u001B[0;34m(\u001B[0m\u001B[0mPerson\u001B[0m\u001B[0;34m.\u001B[0m\u001B[0m__a\u001B[0m\u001B[0;34m)\u001B[0m\u001B[0;34m\u001B[0m\u001B[0;34m\u001B[0m\u001B[0m\n\u001B[0m",
      "\u001B[0;31mAttributeError\u001B[0m: type object 'Person' has no attribute '__a'"
     ]
    }
   ],
   "source": [
    "class Person():\n",
    "    nationality = 'China'  # 公有类变量，所有实例化对象都能访问\n",
    "    __a = 10  # 私有类变量，只能在类内部访问和使用\n",
    "\n",
    "    def __init__(self, name, age, sex):\n",
    "        self.name = name\n",
    "        self.age = age\n",
    "        self.sex = sex\n",
    "        print(Person.__a)\n",
    "\n",
    "    def learn(self):\n",
    "        print(id(self))\n",
    "        print(\"learning\")\n",
    "\n",
    "    def work(self):\n",
    "        print(\"working\")\n",
    "\n",
    "\n",
    "p1 = Person('gavin', 21, 'male')\n",
    "print(Person.__a)  # 这样也无法访问"
   ],
   "metadata": {
    "collapsed": false,
    "pycharm": {
     "name": "#%%\n"
    }
   }
  },
  {
   "cell_type": "code",
   "execution_count": 30,
   "outputs": [
    {
     "name": "stdout",
     "output_type": "stream",
     "text": [
      "这是公有方法\n",
      "这是私有方法\n"
     ]
    },
    {
     "ename": "AttributeError",
     "evalue": "'Person' object has no attribute '__foo'",
     "output_type": "error",
     "traceback": [
      "\u001B[0;31m---------------------------------------------------------------------------\u001B[0m",
      "\u001B[0;31mAttributeError\u001B[0m                            Traceback (most recent call last)",
      "\u001B[0;32m/var/folders/3c/v18vsqt50jzgnmgzv858z_rm0000gn/T/ipykernel_909/85907837.py\u001B[0m in \u001B[0;36m<module>\u001B[0;34m\u001B[0m\n\u001B[1;32m     15\u001B[0m \u001B[0mp1\u001B[0m \u001B[0;34m=\u001B[0m \u001B[0mPerson\u001B[0m\u001B[0;34m(\u001B[0m\u001B[0;34m'gavin'\u001B[0m\u001B[0;34m)\u001B[0m\u001B[0;34m\u001B[0m\u001B[0;34m\u001B[0m\u001B[0m\n\u001B[1;32m     16\u001B[0m \u001B[0mp1\u001B[0m\u001B[0;34m.\u001B[0m \u001B[0mfunc\u001B[0m\u001B[0;34m(\u001B[0m\u001B[0;34m)\u001B[0m\u001B[0;34m\u001B[0m\u001B[0;34m\u001B[0m\u001B[0m\n\u001B[0;32m---> 17\u001B[0;31m \u001B[0mp1\u001B[0m\u001B[0;34m.\u001B[0m\u001B[0m__foo\u001B[0m\u001B[0;34m(\u001B[0m\u001B[0;34m)\u001B[0m\u001B[0;34m\u001B[0m\u001B[0;34m\u001B[0m\u001B[0m\n\u001B[0m",
      "\u001B[0;31mAttributeError\u001B[0m: 'Person' object has no attribute '__foo'"
     ]
    }
   ],
   "source": [
    "class Person():\n",
    "    nationality = 'China'  # 公有类变量，所有实例化对象都能访问\n",
    "    __a = 10  # 私有类变量，只能在类内部访问和使用\n",
    "\n",
    "    def __init__(self, name):\n",
    "        self.name = name\n",
    "\n",
    "    def func(self):\n",
    "        print('这是公有方法')\n",
    "        self.__foo()  # 在类内部调用私有方法\n",
    "\n",
    "    def __foo(self):\n",
    "        print('这是私有方法')\n",
    "\n",
    "\n",
    "p1 = Person('gavin')\n",
    "p1.func()\n",
    "p1.__foo()"
   ],
   "metadata": {
    "collapsed": false,
    "pycharm": {
     "name": "#%%\n"
    }
   }
  },
  {
   "cell_type": "code",
   "execution_count": 29,
   "outputs": [
    {
     "ename": "TypeError",
     "evalue": "'int' object is not callable",
     "output_type": "error",
     "traceback": [
      "\u001B[0;31m---------------------------------------------------------------------------\u001B[0m",
      "\u001B[0;31mTypeError\u001B[0m                                 Traceback (most recent call last)",
      "\u001B[0;32m/var/folders/3c/v18vsqt50jzgnmgzv858z_rm0000gn/T/ipykernel_909/3416797933.py\u001B[0m in \u001B[0;36m<module>\u001B[0;34m\u001B[0m\n\u001B[1;32m     14\u001B[0m \u001B[0mp\u001B[0m \u001B[0;34m=\u001B[0m \u001B[0mPerson\u001B[0m\u001B[0;34m(\u001B[0m\u001B[0;34m'gavin'\u001B[0m\u001B[0;34m)\u001B[0m\u001B[0;34m\u001B[0m\u001B[0;34m\u001B[0m\u001B[0m\n\u001B[1;32m     15\u001B[0m \u001B[0mp\u001B[0m\u001B[0;34m.\u001B[0m\u001B[0mfunc\u001B[0m \u001B[0;34m=\u001B[0m \u001B[0;36m10\u001B[0m\u001B[0;34m\u001B[0m\u001B[0;34m\u001B[0m\u001B[0m\n\u001B[0;32m---> 16\u001B[0;31m \u001B[0mp\u001B[0m\u001B[0;34m.\u001B[0m\u001B[0mfunc\u001B[0m\u001B[0;34m(\u001B[0m\u001B[0;34m)\u001B[0m\u001B[0;34m\u001B[0m\u001B[0;34m\u001B[0m\u001B[0m\n\u001B[0m",
      "\u001B[0;31mTypeError\u001B[0m: 'int' object is not callable"
     ]
    }
   ],
   "source": [
    "class Person():\n",
    "    nationality = 'China'  # 公有类变量，所有实例化对象都能访问\n",
    "    __a = 10  # 私有类变量，只能在类内部访问和使用\n",
    "\n",
    "    def __init__(self, name):\n",
    "        self.name = name\n",
    "\n",
    "    def func(self):\n",
    "        print('这是公有方法')\n",
    "\n",
    "    def __foo(self):\n",
    "        print('这是私有方法')\n",
    "\n",
    "\n",
    "p = Person('gavin')\n",
    "p.func = 10\n",
    "p.func()"
   ],
   "metadata": {
    "collapsed": false,
    "pycharm": {
     "name": "#%%\n"
    }
   }
  },
  {
   "cell_type": "markdown",
   "source": [
    "一个实例，运用了类型标注"
   ],
   "metadata": {
    "collapsed": false
   }
  },
  {
   "cell_type": "code",
   "execution_count": 33,
   "outputs": [
    {
     "name": "stdout",
     "output_type": "stream",
     "text": [
      "100\n"
     ]
    }
   ],
   "source": [
    "class LoL():\n",
    "    def __init__(self, name: str, ak: int, hp: int) -> None:\n",
    "        self.name = name\n",
    "        self.ak = ak\n",
    "        self.hp = hp\n",
    "\n",
    "\n",
    "lol = LoL('Yi', 100, 100)\n",
    "print(lol.hp)"
   ],
   "metadata": {
    "collapsed": false,
    "pycharm": {
     "name": "#%%\n"
    }
   }
  }
 ],
 "metadata": {
  "kernelspec": {
   "display_name": "Python 3",
   "language": "python",
   "name": "python3"
  },
  "language_info": {
   "codemirror_mode": {
    "name": "ipython",
    "version": 2
   },
   "file_extension": ".py",
   "mimetype": "text/x-python",
   "name": "python",
   "nbconvert_exporter": "python",
   "pygments_lexer": "ipython2",
   "version": "2.7.6"
  }
 },
 "nbformat": 4,
 "nbformat_minor": 0
}