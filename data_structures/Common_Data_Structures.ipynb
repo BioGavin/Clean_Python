{
 "cells": [
  {
   "cell_type": "markdown",
   "source": [
    "# Set 集合\n",
    "- 集合元素不能重复\n",
    "- 不支持索引访问集合里的元素\n",
    "- 集合使用散列表之后，可以在O(1)时间内访问元素\n",
    "- 集合支持列表的切片和查询\n",
    "- 集合可以在插入元素时对元素进行排序"
   ],
   "metadata": {
    "collapsed": false
   }
  },
  {
   "cell_type": "markdown",
   "source": [
    "使用集合访问数据"
   ],
   "metadata": {
    "collapsed": false
   }
  },
  {
   "cell_type": "code",
   "execution_count": 1,
   "metadata": {
    "collapsed": true
   },
   "outputs": [
    {
     "name": "stdout",
     "output_type": "stream",
     "text": [
      "Found the data\n"
     ]
    }
   ],
   "source": [
    "data = {\"first\", \"second\", \"third\", \"fourth\", \"fifth\"}\n",
    "if \"fourth\" in data:\n",
    "    print(\"Found the data\")"
   ]
  },
  {
   "cell_type": "markdown",
   "source": [
    "使用集合去重"
   ],
   "metadata": {
    "collapsed": false,
    "pycharm": {
     "name": "#%% md\n"
    }
   }
  },
  {
   "cell_type": "code",
   "execution_count": 2,
   "outputs": [
    {
     "data": {
      "text/plain": "{'fifth', 'first', 'fourth', 'second', 'third'}"
     },
     "execution_count": 2,
     "metadata": {},
     "output_type": "execute_result"
    }
   ],
   "source": [
    "data = [\"first\", \"second\", \"third\", \"fourth\", \"fourth\", \"fourth\", \"fifth\"]\n",
    "no_duplicate_data = set(data)\n",
    "no_duplicate_data"
   ],
   "metadata": {
    "collapsed": false,
    "pycharm": {
     "name": "#%%\n"
    }
   }
  },
  {
   "cell_type": "markdown",
   "source": [
    "集合用作姓氏和名字"
   ],
   "metadata": {
    "collapsed": false,
    "pycharm": {
     "name": "#%% md\n"
    }
   }
  },
  {
   "cell_type": "code",
   "execution_count": 4,
   "outputs": [
    {
     "data": {
      "text/plain": "({'1267', '2343'}, ['Larry Page', 'John Freedom'])"
     },
     "execution_count": 4,
     "metadata": {},
     "output_type": "execute_result"
    }
   ],
   "source": [
    "user = {'1267': {'first': 'Larry', 'last': 'Page'},\n",
    "        '2343': {'first': 'John', 'last': 'Freedom'}}\n",
    "ids = set(user.keys())\n",
    "full_names = []\n",
    "for user in user.values():\n",
    "    full_names.append(user[\"first\"] + \" \" + user[\"last\"])\n",
    "ids, full_names"
   ],
   "metadata": {
    "collapsed": false,
    "pycharm": {
     "name": "#%%\n"
    }
   }
  },
  {
   "cell_type": "markdown",
   "source": [
    "# Namedtuple 具名元组"
   ],
   "metadata": {
    "collapsed": false
   }
  },
  {
   "cell_type": "markdown",
   "source": [
    "访问数据"
   ],
   "metadata": {
    "collapsed": false
   }
  },
  {
   "cell_type": "code",
   "execution_count": 10,
   "outputs": [
    {
     "data": {
      "text/plain": "(Point(x=3, y=4, z=5), 3)"
     },
     "execution_count": 10,
     "metadata": {},
     "output_type": "execute_result"
    }
   ],
   "source": [
    "from collections import namedtuple\n",
    "\n",
    "Point = namedtuple(\"Point\", ['x', 'y', 'z'])\n",
    "point = Point(3, 4, 5)\n",
    "point, point.x"
   ],
   "metadata": {
    "collapsed": false,
    "pycharm": {
     "name": "#%%\n"
    }
   }
  },
  {
   "cell_type": "markdown",
   "source": [
    "返回数据\n",
    "使用 namedtuple 返回函数的值"
   ],
   "metadata": {
    "collapsed": false
   }
  },
  {
   "cell_type": "code",
   "execution_count": 11,
   "outputs": [
    {
     "data": {
      "text/plain": "Result(sum=7, difference=-1, product=12, quotient=0.75)"
     },
     "execution_count": 11,
     "metadata": {},
     "output_type": "execute_result"
    }
   ],
   "source": [
    "def operation(a, b):\n",
    "    Result = namedtuple(\"Result\", ['sum', 'difference', 'product', 'quotient'])\n",
    "    result = Result(a + b, a - b, a * b, a / b)\n",
    "    return result\n",
    "\n",
    "\n",
    "operation(3, 4)"
   ],
   "metadata": {
    "collapsed": false,
    "pycharm": {
     "name": "#%%\n"
    }
   }
  },
  {
   "cell_type": "markdown",
   "source": [
    "# Iterator 迭代器\n",
    "使用列表存储大数据存在内存泄漏的风险，影响系统性能，使用迭代器能避免这样的问题"
   ],
   "metadata": {
    "collapsed": false,
    "pycharm": {
     "name": "#%% md\n"
    }
   }
  },
  {
   "cell_type": "code",
   "execution_count": 45,
   "outputs": [
    {
     "name": "stdout",
     "output_type": "stream",
     "text": [
      "2\t3\t5\t7\t"
     ]
    }
   ],
   "source": [
    "import math\n",
    "\n",
    "\n",
    "def is_prime(num):\n",
    "    prime = True\n",
    "    for item in range(2, int(math.sqrt(num)) + 1):\n",
    "        if num % item == 0:\n",
    "            prime = False\n",
    "    return prime\n",
    "\n",
    "\n",
    "def get_prime_numbers(lower, higher):\n",
    "    for possible_prime in range(lower, higher):\n",
    "        if is_prime(possible_prime):\n",
    "            yield possible_prime\n",
    "        yield False\n",
    "\n",
    "\n",
    "for prime in get_prime_numbers(2, 10):\n",
    "    if prime:\n",
    "        print(prime, end='\\t')"
   ],
   "metadata": {
    "collapsed": false,
    "pycharm": {
     "name": "#%%\n"
    }
   }
  },
  {
   "cell_type": "markdown",
   "source": [
    "# Zip\n",
    "用于两个列表并行处理，Python内置函数，非常高效"
   ],
   "metadata": {
    "collapsed": false
   }
  },
  {
   "cell_type": "code",
   "execution_count": 47,
   "outputs": [
    {
     "data": {
      "text/plain": "[('Abe', '2M'),\n ('Larry', '1M'),\n ('Adams', '60K'),\n ('John', '30K'),\n ('Sumint', '80K'),\n ('Adward', '100K')]"
     },
     "execution_count": 47,
     "metadata": {},
     "output_type": "execute_result"
    }
   ],
   "source": [
    "def get_user_salary_info():\n",
    "    users = [\"Abe\", \"Larry\", \"Adams\", \"John\", \"Sumint\", \"Adward\"]\n",
    "    users_salary = [\"2M\", \"1M\", \"60K\", \"30K\", \"80K\", \"100K\"]\n",
    "    user_salary = []\n",
    "    for usr, slr in zip(users, users_salary):\n",
    "        user_salary.append((usr, slr))\n",
    "    return user_salary\n",
    "\n",
    "get_user_salary_info()"
   ],
   "metadata": {
    "collapsed": false,
    "pycharm": {
     "name": "#%%\n"
    }
   }
  },
  {
   "cell_type": "markdown",
   "source": [
    "# Python 内置函数\n",
    "- collections: 使用最广泛的库之一，同时也有很有用的数据结构，特别是 namedtuple、defaultdict、ordereddict\n",
    "- csv: 用于读写 csv 文件\n",
    "- datatime/time: 用于处理计时问题\n",
    "- re: 实现正则表达式功能\n",
    "- tempfile: 用来创建一次性临时文件\n",
    "- itertools: 常用的方法是排列和组合，此外还有一些很有用的函数，如 dropwhile、product、chain、islice\n",
    "- functools: 用于函数式编程\n",
    "- sys/os: 用于执行一些特殊操作或系统级别的操作\n",
    "- subprocess: 用于在系统上创建多个进程\n",
    "- logging: 实现日志记录功能\n",
    "- json: JSON 是通过网络和 API 传递消息的实际标准\n",
    "- pickle: 用于序列化和反序列化 Python 对象\n",
    "- \\_\\_future\\_\\_: 伪模块，它支持与当前解释器不兼容的新语言特性"
   ],
   "metadata": {
    "collapsed": false
   }
  },
  {
   "cell_type": "markdown",
   "source": [
    "collections"
   ],
   "metadata": {
    "collapsed": false
   }
  }
 ],
 "metadata": {
  "kernelspec": {
   "display_name": "Python 3",
   "language": "python",
   "name": "python3"
  },
  "language_info": {
   "codemirror_mode": {
    "name": "ipython",
    "version": 2
   },
   "file_extension": ".py",
   "mimetype": "text/x-python",
   "name": "python",
   "nbconvert_exporter": "python",
   "pygments_lexer": "ipython2",
   "version": "2.7.6"
  }
 },
 "nbformat": 4,
 "nbformat_minor": 0
}