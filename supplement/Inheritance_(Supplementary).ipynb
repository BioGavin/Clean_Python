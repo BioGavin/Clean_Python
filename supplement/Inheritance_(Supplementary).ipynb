{
 "cells": [
  {
   "cell_type": "markdown",
   "source": [
    "# 继承\n",
    "- 单继承：一个父类\n",
    "- 多继承：多个父类\n",
    "公有可继承，私有不可继承"
   ],
   "metadata": {
    "collapsed": false
   }
  },
  {
   "cell_type": "code",
   "execution_count": 1,
   "metadata": {
    "collapsed": true,
    "pycharm": {
     "name": "#%%\n"
    }
   },
   "outputs": [
    {
     "data": {
      "text/plain": "21"
     },
     "execution_count": 1,
     "metadata": {},
     "output_type": "execute_result"
    }
   ],
   "source": [
    "class Person():\n",
    "    def __init__(self, name, age):\n",
    "        self.name = name\n",
    "        self.age = age\n",
    "\n",
    "    def eat(self):\n",
    "        print('eating')\n",
    "\n",
    "    def work(self):\n",
    "        print('working')\n",
    "\n",
    "\n",
    "class Chinese(Person):\n",
    "    pass\n",
    "\n",
    "\n",
    "li = Chinese('li', 21)\n",
    "li.age"
   ]
  },
  {
   "cell_type": "markdown",
   "source": [
    "如果子类有 init，则不执行父类 init\n",
    "如果想既想在子类中实现 init，也想继承父类 init，需要用 super\n",
    "super 是严格按照mro的继承顺序执行的"
   ],
   "metadata": {
    "collapsed": false
   }
  },
  {
   "cell_type": "code",
   "execution_count": 13,
   "outputs": [
    {
     "data": {
      "text/plain": "19"
     },
     "execution_count": 13,
     "metadata": {},
     "output_type": "execute_result"
    }
   ],
   "source": [
    "class Person():\n",
    "    def __init__(self, name, age):\n",
    "        self.name = name\n",
    "        self.age = age\n",
    "\n",
    "    def eat(self):\n",
    "        print('eating')\n",
    "\n",
    "    def work(self):\n",
    "        print('working')\n",
    "\n",
    "\n",
    "class Chinese(Person):\n",
    "    def __init__(self, chinese_name, name, age):\n",
    "        super().__init__(name, age)  # 不需要加 self\n",
    "        self.chinese_name = chinese_name\n",
    "\n",
    "        pass\n",
    "\n",
    "\n",
    "li = Chinese(chinese_name='li', name='gavin', age=19)\n",
    "li.age"
   ],
   "metadata": {
    "collapsed": false,
    "pycharm": {
     "name": "#%%\n"
    }
   }
  },
  {
   "cell_type": "markdown",
   "source": [
    "多继承\n",
    "mro 方法查看继承顺序"
   ],
   "metadata": {
    "collapsed": false
   }
  },
  {
   "cell_type": "code",
   "execution_count": 14,
   "outputs": [
    {
     "name": "stdout",
     "output_type": "stream",
     "text": [
      "[<class '__main__.Chinese'>, <class '__main__.Person'>, <class '__main__.Creature'>, <class 'object'>]\n"
     ]
    }
   ],
   "source": [
    "class Person():\n",
    "    def __init__(self, name, age):\n",
    "        self.name = name\n",
    "        self.age = age\n",
    "\n",
    "    def eat(self):\n",
    "        print('eating')\n",
    "\n",
    "    def work(self):\n",
    "        print('working')\n",
    "\n",
    "\n",
    "class Creature():\n",
    "    def __init__(self):\n",
    "        pass\n",
    "\n",
    "\n",
    "class Chinese(Person, Creature):\n",
    "    def __init__(self, chinese_name, name, age):\n",
    "        super().__init__(name, age)  # 不需要加 self\n",
    "        self.chinese_name = chinese_name\n",
    "\n",
    "\n",
    "print(Chinese.mro())  # 查看继承顺序"
   ],
   "metadata": {
    "collapsed": false,
    "pycharm": {
     "name": "#%%\n"
    }
   }
  }
 ],
 "metadata": {
  "kernelspec": {
   "display_name": "Python 3",
   "language": "python",
   "name": "python3"
  },
  "language_info": {
   "codemirror_mode": {
    "name": "ipython",
    "version": 2
   },
   "file_extension": ".py",
   "mimetype": "text/x-python",
   "name": "python",
   "nbconvert_exporter": "python",
   "pygments_lexer": "ipython2",
   "version": "2.7.6"
  }
 },
 "nbformat": 4,
 "nbformat_minor": 0
}