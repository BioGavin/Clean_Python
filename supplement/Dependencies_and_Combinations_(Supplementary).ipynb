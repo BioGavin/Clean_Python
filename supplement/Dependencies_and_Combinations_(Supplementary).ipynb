{
 "cells": [
  {
   "cell_type": "markdown",
   "source": [
    "# 依赖与组合\n",
    "依赖：将A的类名或对象当作参数传递到B类中\n",
    "组合：将A的列名或对象封装到B类的对象空间中"
   ],
   "metadata": {
    "collapsed": false
   }
  },
  {
   "cell_type": "markdown",
   "source": [
    "依赖示例"
   ],
   "metadata": {
    "collapsed": false
   }
  },
  {
   "cell_type": "code",
   "execution_count": 1,
   "metadata": {
    "collapsed": true
   },
   "outputs": [
    {
     "name": "stdout",
     "output_type": "stream",
     "text": [
      "door is opened.\n"
     ]
    }
   ],
   "source": [
    "class Elephant():\n",
    "    def __init__(self, name):\n",
    "        self.name = name\n",
    "\n",
    "    def open_door(self, obj):  # 依赖，该方式的实现依赖另一个对象的方法\n",
    "        obj.open()\n",
    "\n",
    "    def close_door(self, obj):  # 依赖，该方式的实现依赖另一个对象的方法\n",
    "        obj.close()\n",
    "\n",
    "\n",
    "class Refrigerator():\n",
    "    def open(self):\n",
    "        print('door is opened.')\n",
    "\n",
    "    def close(self):\n",
    "        print('door is closed.')\n",
    "\n",
    "\n",
    "ele = Elephant('ele')\n",
    "refrigerator = Refrigerator()\n",
    "ele.open_door(refrigerator)"
   ]
  },
  {
   "cell_type": "markdown",
   "source": [
    "组合示例"
   ],
   "metadata": {
    "collapsed": false
   }
  },
  {
   "cell_type": "code",
   "execution_count": 3,
   "outputs": [
    {
     "name": "stdout",
     "output_type": "stream",
     "text": [
      "Trojan has been sent.\n",
      "John attacks Tim\n"
     ]
    }
   ],
   "source": [
    "class Programmer():\n",
    "    def __init__(self, name, virus):\n",
    "        self.name = name\n",
    "        self.virus = virus  # 组合，将另一对象封装到该类的对象中\n",
    "\n",
    "    def attack(self, obj):\n",
    "        self.virus.send()\n",
    "        print(f'{self.name} attacks {obj.name}')\n",
    "\n",
    "\n",
    "class Virus():\n",
    "    def __init__(self, name):\n",
    "        self.name = name\n",
    "\n",
    "    def send(self):\n",
    "        print(f'{self.name} has been sent.')\n",
    "\n",
    "\n",
    "trojan = Virus('Trojan')\n",
    "p1 = Programmer('Tim', trojan)\n",
    "p2 = Programmer('John', trojan)\n",
    "\n",
    "p2.attack(p1)"
   ],
   "metadata": {
    "collapsed": false,
    "pycharm": {
     "name": "#%%\n"
    }
   }
  }
 ],
 "metadata": {
  "kernelspec": {
   "display_name": "Python 3",
   "language": "python",
   "name": "python3"
  },
  "language_info": {
   "codemirror_mode": {
    "name": "ipython",
    "version": 2
   },
   "file_extension": ".py",
   "mimetype": "text/x-python",
   "name": "python",
   "nbconvert_exporter": "python",
   "pygments_lexer": "ipython2",
   "version": "2.7.6"
  }
 },
 "nbformat": 4,
 "nbformat_minor": 0
}