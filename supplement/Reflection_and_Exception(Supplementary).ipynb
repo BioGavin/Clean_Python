{
 "cells": [
  {
   "cell_type": "markdown",
   "source": [
    "\n",
    "# 反射\n",
    "反射就是通过字符串操作对象中的属性，Python 中一切皆对象\n",
    "hasattr() getattr() setattr() delattr()"
   ],
   "metadata": {
    "collapsed": false
   }
  },
  {
   "cell_type": "code",
   "execution_count": 7,
   "metadata": {
    "collapsed": true,
    "pycharm": {
     "name": "#%%\n"
    }
   },
   "outputs": [
    {
     "name": "stdout",
     "output_type": "stream",
     "text": [
      "set\n",
      "set\n",
      "del\n",
      "{}\n"
     ]
    }
   ],
   "source": [
    "class A:\n",
    "    def __init__(self, name):\n",
    "        self.name = name\n",
    "\n",
    "    def __getattr__(self, item):  # 当访问的属性不存在时执行\n",
    "        return f\"{item} doesn't exist!\"\n",
    "\n",
    "    def __setattr__(self, key, value):  # 用于对象属性的封装\n",
    "        print('set')\n",
    "\n",
    "    def __delattr__(self, item):\n",
    "        print('del')\n",
    "\n",
    "\n",
    "a = A('gavin')\n",
    "a.age = 19\n",
    "del a.name\n",
    "print(a.__dict__)"
   ]
  },
  {
   "cell_type": "markdown",
   "source": [
    "可用于实现前后端分离"
   ],
   "metadata": {
    "collapsed": false
   }
  },
  {
   "cell_type": "code",
   "execution_count": 8,
   "outputs": [
    {
     "name": "stdout",
     "output_type": "stream",
     "text": [
      "func\n"
     ]
    }
   ],
   "source": [
    "class A:\n",
    "    def __init__(self, name):\n",
    "        self.name = name\n",
    "\n",
    "    def func(self):\n",
    "        print('func')\n",
    "\n",
    "\n",
    "a = A('gavin')\n",
    "b = input('input:')\n",
    "getattr(a, b)()"
   ],
   "metadata": {
    "collapsed": false,
    "pycharm": {
     "name": "#%%\n"
    }
   }
  },
  {
   "cell_type": "code",
   "execution_count": 12,
   "outputs": [
    {
     "data": {
      "text/plain": "'ErrOr'"
     },
     "execution_count": 12,
     "metadata": {},
     "output_type": "execute_result"
    }
   ],
   "source": [
    "class A:\n",
    "    def __init__(self, name):\n",
    "        self.name = name\n",
    "\n",
    "    def func(self):\n",
    "        print('func')\n",
    "\n",
    "\n",
    "a = A('gavin')\n",
    "getattr(a, 'foo', 'ErrOr')"
   ],
   "metadata": {
    "collapsed": false,
    "pycharm": {
     "name": "#%%\n"
    }
   }
  },
  {
   "cell_type": "code",
   "execution_count": 9,
   "outputs": [
    {
     "data": {
      "text/plain": "True"
     },
     "execution_count": 9,
     "metadata": {},
     "output_type": "execute_result"
    }
   ],
   "source": [
    "class A:\n",
    "    def __init__(self, name):\n",
    "        self.name = name\n",
    "\n",
    "    def func(self):\n",
    "        print('func')\n",
    "\n",
    "\n",
    "a = A('gavin')\n",
    "hasattr(a, 'func')"
   ],
   "metadata": {
    "collapsed": false,
    "pycharm": {
     "name": "#%%\n"
    }
   }
  },
  {
   "cell_type": "code",
   "execution_count": 16,
   "outputs": [
    {
     "data": {
      "text/plain": "{'name': 'gavin', 'age': 22}"
     },
     "execution_count": 16,
     "metadata": {},
     "output_type": "execute_result"
    }
   ],
   "source": [
    "class A:\n",
    "    def __init__(self, name):\n",
    "        self.name = name\n",
    "\n",
    "    def func(self):\n",
    "        print('func')\n",
    "\n",
    "\n",
    "a = A('gavin')\n",
    "setattr(a,'age', 20)\n",
    "setattr(a,'age', 22)\n",
    "a.__dict__"
   ],
   "metadata": {
    "collapsed": false,
    "pycharm": {
     "name": "#%%\n"
    }
   }
  },
  {
   "cell_type": "code",
   "execution_count": 18,
   "outputs": [
    {
     "data": {
      "text/plain": "{'age': 20}"
     },
     "execution_count": 18,
     "metadata": {},
     "output_type": "execute_result"
    }
   ],
   "source": [
    "class A:\n",
    "    def __init__(self, name):\n",
    "        self.name = name\n",
    "\n",
    "    def func(self):\n",
    "        print('func')\n",
    "\n",
    "\n",
    "a = A('gavin')\n",
    "setattr(a,'age', 20)\n",
    "delattr(a,'name')\n",
    "a.__dict__"
   ],
   "metadata": {
    "collapsed": false,
    "pycharm": {
     "name": "#%%\n"
    }
   }
  },
  {
   "cell_type": "markdown",
   "source": [
    "# 异常处理"
   ],
   "metadata": {
    "collapsed": false
   }
  },
  {
   "cell_type": "markdown",
   "source": [
    "异常分为两种：\n",
    "- 语法错误 \"print( if\"\n",
    "- 逻辑错误 \"int('q')\"\n",
    "\n",
    "异常处理：发现错误，即使制止，使程序继续进行"
   ],
   "metadata": {
    "collapsed": false
   }
  },
  {
   "cell_type": "code",
   "execution_count": 21,
   "outputs": [
    {
     "name": "stdout",
     "output_type": "stream",
     "text": [
      "ErrOr\n",
      "123\n"
     ]
    }
   ],
   "source": [
    "if 3>2:\n",
    "    try:\n",
    "        print(int('q'))\n",
    "    except ValueError:  # 异常捕获\n",
    "        print('ErrOr')\n",
    "print(123)"
   ],
   "metadata": {
    "collapsed": false,
    "pycharm": {
     "name": "#%%\n"
    }
   }
  },
  {
   "cell_type": "markdown",
   "source": [
    "异常的类型：\n",
    "- AttributeError\n",
    "- ImportError\n",
    "- IndentationError\n",
    "- IndexError\n",
    "- KeyError\n",
    "- ValueError\n",
    "- NameError\n",
    "- TypeError\n",
    "- SyntaxError\n",
    "- UnboundLocalError"
   ],
   "metadata": {
    "collapsed": false,
    "pycharm": {
     "name": "#%% md\n"
    }
   }
  },
  {
   "cell_type": "markdown",
   "source": [
    "流程控制语句"
   ],
   "metadata": {
    "collapsed": false
   }
  },
  {
   "cell_type": "code",
   "execution_count": 26,
   "outputs": [
    {
     "name": "stdout",
     "output_type": "stream",
     "text": [
      "\n"
     ]
    }
   ],
   "source": [
    "msg = input(\"Please input:\")\n",
    "if msg.isdigit():\n",
    "    int(msg)\n",
    "elif msg.isalpha():\n",
    "    msg += \"alex\"\n",
    "print(msg)"
   ],
   "metadata": {
    "collapsed": false,
    "pycharm": {
     "name": "#%%\n"
    }
   }
  },
  {
   "cell_type": "code",
   "execution_count": 1,
   "outputs": [
    {
     "name": "stdout",
     "output_type": "stream",
     "text": [
      "test running\n"
     ]
    }
   ],
   "source": [
    "def test():\n",
    "    print('test running')\n",
    "func_dict = {'1': test}\n",
    "while True:\n",
    "    choice=input('>>: ').strip()\n",
    "    if choice in func_dict:\n",
    "        func_dict[choice]()\n",
    "        break"
   ],
   "metadata": {
    "collapsed": false,
    "pycharm": {
     "name": "#%%\n"
    }
   }
  },
  {
   "cell_type": "code",
   "execution_count": 2,
   "outputs": [
    {
     "name": "stdout",
     "output_type": "stream",
     "text": [
      "invalid literal for int() with base 10: 'q'\n"
     ]
    }
   ],
   "source": [
    "try:\n",
    "    int('q')\n",
    "except ValueError as err:  # 异常捕获 错误类型必须选用准确，否则无法捕获\n",
    "    print(err)"
   ],
   "metadata": {
    "collapsed": false,
    "pycharm": {
     "name": "#%%\n"
    }
   }
  },
  {
   "cell_type": "code",
   "execution_count": 3,
   "outputs": [
    {
     "name": "stdout",
     "output_type": "stream",
     "text": [
      "invalid literal for int() with base 10: 'q'\n"
     ]
    }
   ],
   "source": [
    "try:\n",
    "    int('q')\n",
    "except Exception as err:  # 万能异常\n",
    "    print(err)"
   ],
   "metadata": {
    "collapsed": false,
    "pycharm": {
     "name": "#%%\n"
    }
   }
  },
  {
   "cell_type": "markdown",
   "source": [
    "多分支异常"
   ],
   "metadata": {
    "collapsed": false
   }
  },
  {
   "cell_type": "code",
   "execution_count": 8,
   "outputs": [
    {
     "name": "stdout",
     "output_type": "stream",
     "text": [
      "4\n",
      "6\n"
     ]
    }
   ],
   "source": [
    "try:\n",
    "    int('q')\n",
    "except KeyError:\n",
    "    print(1)\n",
    "except IndexError:\n",
    "    print(2)\n",
    "except SyntaxError:\n",
    "    print(3)\n",
    "except Exception:\n",
    "    print(4)\n",
    "else:\n",
    "    print(5)\n",
    "finally:  # 不管有无异常，都执行，一般处理清理任务(善后工作)\n",
    "    print(6)"
   ],
   "metadata": {
    "collapsed": false,
    "pycharm": {
     "name": "#%%\n"
    }
   }
  },
  {
   "cell_type": "markdown",
   "source": [
    "自定义异常"
   ],
   "metadata": {
    "collapsed": false
   }
  },
  {
   "cell_type": "code",
   "execution_count": 12,
   "outputs": [
    {
     "name": "stdout",
     "output_type": "stream",
     "text": [
      "ErrOr000\n"
     ]
    }
   ],
   "source": [
    "class MyException(BaseException):\n",
    "    def __init__(self, msg):\n",
    "        self.msg = msg\n",
    "    def __str__(self):\n",
    "        return self.msg + '000'\n",
    "try:\n",
    "    raise MyException('ErrOr')\n",
    "except MyException as e:\n",
    "    print(e)"
   ],
   "metadata": {
    "collapsed": false,
    "pycharm": {
     "name": "#%%\n"
    }
   }
  },
  {
   "cell_type": "markdown",
   "source": [
    "断言"
   ],
   "metadata": {
    "collapsed": false
   }
  },
  {
   "cell_type": "code",
   "execution_count": 19,
   "outputs": [
    {
     "ename": "AssertionError",
     "evalue": "",
     "output_type": "error",
     "traceback": [
      "\u001B[0;31m---------------------------------------------------------------------------\u001B[0m",
      "\u001B[0;31mAssertionError\u001B[0m                            Traceback (most recent call last)",
      "\u001B[0;32m/var/folders/3c/v18vsqt50jzgnmgzv858z_rm0000gn/T/ipykernel_28494/844615559.py\u001B[0m in \u001B[0;36m<module>\u001B[0;34m\u001B[0m\n\u001B[1;32m      1\u001B[0m \u001B[0ma\u001B[0m \u001B[0;34m=\u001B[0m \u001B[0;36m2\u001B[0m\u001B[0;34m\u001B[0m\u001B[0;34m\u001B[0m\u001B[0m\n\u001B[0;32m----> 2\u001B[0;31m \u001B[0;32massert\u001B[0m \u001B[0ma\u001B[0m \u001B[0;34m==\u001B[0m \u001B[0;36m1\u001B[0m\u001B[0;34m\u001B[0m\u001B[0;34m\u001B[0m\u001B[0m\n\u001B[0m\u001B[1;32m      3\u001B[0m \u001B[0ma\u001B[0m\u001B[0;34m\u001B[0m\u001B[0;34m\u001B[0m\u001B[0m\n",
      "\u001B[0;31mAssertionError\u001B[0m: "
     ]
    }
   ],
   "source": [
    "a = 2\n",
    "assert a == 1\n",
    "a"
   ],
   "metadata": {
    "collapsed": false,
    "pycharm": {
     "name": "#%%\n"
    }
   }
  }
 ],
 "metadata": {
  "kernelspec": {
   "display_name": "Python 3",
   "language": "python",
   "name": "python3"
  },
  "language_info": {
   "codemirror_mode": {
    "name": "ipython",
    "version": 2
   },
   "file_extension": ".py",
   "mimetype": "text/x-python",
   "name": "python",
   "nbconvert_exporter": "python",
   "pygments_lexer": "ipython2",
   "version": "2.7.6"
  }
 },
 "nbformat": 4,
 "nbformat_minor": 0
}