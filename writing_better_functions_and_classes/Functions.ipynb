{
 "cells": [
  {
   "cell_type": "markdown",
   "source": [
    "# 函数"
   ],
   "metadata": {
    "collapsed": false
   }
  },
  {
   "cell_type": "markdown",
   "source": [
    "编写函数和类时，一定要考虑函数/类的边界和结构\n",
    "遵循单一职责原则(Single Responsibility Principle, SRP)\n",
    "补充：SRP 是面向对象的五大基本设计原则之一，除此之外，还有开闭原则、依赖倒置原则、里式替换原则和迪米特法则"
   ],
   "metadata": {
    "collapsed": false
   }
  },
  {
   "cell_type": "markdown",
   "source": [
    "编写小函数\n",
    "建议首先编写实现功能的代码，一旦实现后可以考虑将功能分解为多个函数，让代码更清晰"
   ],
   "metadata": {
    "collapsed": false
   }
  },
  {
   "cell_type": "markdown",
   "source": [
    "返回生成器\n",
    "在不确定返回数据多大时，为了避免内存耗尽，优先选择返回生成器"
   ],
   "metadata": {
    "collapsed": false,
    "pycharm": {
     "name": "#%% md\n"
    }
   }
  },
  {
   "cell_type": "markdown",
   "source": [
    "引发异常替代返回 None\n",
    "当代码发生任何意外时，返回 None 或者打印日志都会隐藏 bug"
   ],
   "metadata": {
    "collapsed": false
   }
  },
  {
   "cell_type": "code",
   "execution_count": 1,
   "outputs": [],
   "source": [
    "def read_lines_for_python(file_name, file_type):\n",
    "    if file_type not in ('txt', 'html'):\n",
    "        raise ValueError('Not correct file format')\n",
    "    if not file_name:\n",
    "        raise IOError('File Not Found')"
   ],
   "metadata": {
    "collapsed": false,
    "pycharm": {
     "name": "#%%\n"
    }
   }
  },
  {
   "cell_type": "markdown",
   "source": [
    "使用默认参数和关键字参数\n",
    "关键字参数用于为函数提供默认值或用作关键字\n",
    "调用函数时带关键字能提高代码可读性"
   ],
   "metadata": {
    "collapsed": false
   }
  },
  {
   "cell_type": "code",
   "execution_count": 2,
   "outputs": [
    {
     "data": {
      "text/plain": "60"
     },
     "execution_count": 2,
     "metadata": {},
     "output_type": "execute_result"
    }
   ],
   "source": [
    "def calculate_sum(first_number=5, second_number=10):\n",
    "    return first_number + second_number\n",
    "\n",
    "\n",
    "calculate_sum(50)"
   ],
   "metadata": {
    "collapsed": false,
    "pycharm": {
     "name": "#%%\n"
    }
   }
  },
  {
   "cell_type": "markdown",
   "source": [
    "不要显式地返回 None\n",
    "如果不显式返回，则 Python 函数默认返回 None。"
   ],
   "metadata": {
    "collapsed": false
   }
  },
  {
   "cell_type": "code",
   "execution_count": 5,
   "outputs": [
    {
     "data": {
      "text/plain": "170"
     },
     "execution_count": 5,
     "metadata": {},
     "output_type": "execute_result"
    }
   ],
   "source": [
    "def sum(first_number, second_number):\n",
    "    if isinstance(first_number, int) and isinstance(second_number, int):\n",
    "        return first_number + second_number\n",
    "    else:\n",
    "        return ValueError(\"Provide only int values\")\n",
    "\n",
    "\n",
    "sum(80, 90)"
   ],
   "metadata": {
    "collapsed": false,
    "pycharm": {
     "name": "#%%\n"
    }
   }
  },
  {
   "cell_type": "markdown",
   "source": [
    "编写函数时注意防御\n",
    "在代码交付之前，需要做2件事来提高代码质量：日志记录和单元测试"
   ],
   "metadata": {
    "collapsed": false
   }
  },
  {
   "cell_type": "markdown",
   "source": [
    "日志记录\n",
    "在大型项目中，日志记录更易于调试和诊断，长期维护项目"
   ],
   "metadata": {
    "collapsed": false
   }
  },
  {
   "cell_type": "code",
   "execution_count": 7,
   "outputs": [
    {
     "ename": "TypeError",
     "evalue": "setLevel() missing 1 required positional argument: 'level'",
     "output_type": "error",
     "traceback": [
      "\u001B[0;31m---------------------------------------------------------------------------\u001B[0m",
      "\u001B[0;31mTypeError\u001B[0m                                 Traceback (most recent call last)",
      "\u001B[0;32m/var/folders/3c/v18vsqt50jzgnmgzv858z_rm0000gn/T/ipykernel_6301/2226600356.py\u001B[0m in \u001B[0;36m<module>\u001B[0;34m\u001B[0m\n\u001B[1;32m      5\u001B[0m \u001B[0;34m\u001B[0m\u001B[0m\n\u001B[1;32m      6\u001B[0m \u001B[0;31m# Set logging levels\u001B[0m\u001B[0;34m\u001B[0m\u001B[0;34m\u001B[0m\u001B[0;34m\u001B[0m\u001B[0m\n\u001B[0;32m----> 7\u001B[0;31m \u001B[0mhandler\u001B[0m\u001B[0;34m.\u001B[0m\u001B[0msetLevel\u001B[0m\u001B[0;34m(\u001B[0m\u001B[0mlogging\u001B[0m\u001B[0;34m.\u001B[0m\u001B[0mWARNING\u001B[0m\u001B[0;34m)\u001B[0m\u001B[0;34m\u001B[0m\u001B[0;34m\u001B[0m\u001B[0m\n\u001B[0m\u001B[1;32m      8\u001B[0m \u001B[0mhandler\u001B[0m\u001B[0;34m.\u001B[0m\u001B[0msetLevel\u001B[0m\u001B[0;34m(\u001B[0m\u001B[0mlogging\u001B[0m\u001B[0;34m.\u001B[0m\u001B[0mERROR\u001B[0m\u001B[0;34m)\u001B[0m\u001B[0;34m\u001B[0m\u001B[0;34m\u001B[0m\u001B[0m\n\u001B[1;32m      9\u001B[0m \u001B[0;34m\u001B[0m\u001B[0m\n",
      "\u001B[0;31mTypeError\u001B[0m: setLevel() missing 1 required positional argument: 'level'"
     ]
    }
   ],
   "source": [
    "import logging\n",
    "\n",
    "logger = logging.getLogger(__name__)  # Create a custom logger\n",
    "handler = logging.StreamHandler  # Using stream handler\n",
    "\n",
    "# Set logging levels\n",
    "handler.setLevel(logging.WARNING)\n",
    "handler.setLevel(logging.ERROR)\n",
    "\n",
    "format_c = logging.Formatter(\"%(name) - %(levelname) - %(message)\")\n",
    "handler.setFormatter(format_c)  # Add formater to handler\n",
    "logger.addHandler(handler)\n",
    "\n",
    "\n",
    "def division(divident, divisor):\n",
    "    try:\n",
    "        return divident / divisor\n",
    "    except ZeroDivisionError:\n",
    "        logger.error(\"Zero Division Error\")\n",
    "\n",
    "\n",
    "num = division(4, 0)"
   ],
   "metadata": {
    "collapsed": false,
    "pycharm": {
     "name": "#%%\n"
    }
   }
  },
  {
   "cell_type": "markdown",
   "source": [
    "单元测试\n",
    "在代码中强制执行单元测试可以防止引入 bug\n",
    "比较流行的单元测试相关的库有 py.test 和 unittest\n",
    "作者建议直接使用 py.test ，它拥有更多优秀的特性"
   ],
   "metadata": {
    "collapsed": false
   }
  },
  {
   "cell_type": "code",
   "execution_count": 8,
   "outputs": [],
   "source": [
    "import unittest\n",
    "\n",
    "\n",
    "def sum_numbers(x, y):\n",
    "    return x + y\n",
    "\n",
    "\n",
    "class SimpleTest(unittest.TestCase):\n",
    "    def test(self):\n",
    "        self.assertEqual(sum_numbers(3, 4), 7)"
   ],
   "metadata": {
    "collapsed": false,
    "pycharm": {
     "name": "#%%\n"
    }
   }
  },
  {
   "cell_type": "markdown",
   "source": [
    "单独使用 lambda 表达式\n",
    "lambda 是 Python 中有趣的特性，但建议避免使用\n",
    "PEP8 建议不要编写如下的代码"
   ],
   "metadata": {
    "collapsed": false
   }
  },
  {
   "cell_type": "code",
   "execution_count": 10,
   "outputs": [
    {
     "data": {
      "text/plain": "[1, 2, 3, 4, 5]"
     },
     "execution_count": 10,
     "metadata": {},
     "output_type": "execute_result"
    }
   ],
   "source": [
    "numbers = [3,2,1,5,4]\n",
    "sorted_numbers = sorted(numbers, key=lambda num: abs(num))\n",
    "sorted_numbers"
   ],
   "metadata": {
    "collapsed": false,
    "pycharm": {
     "name": "#%%\n"
    }
   }
  },
  {
   "cell_type": "markdown",
   "source": [
    "而是建议编写如下代码"
   ],
   "metadata": {
    "collapsed": false
   }
  },
  {
   "cell_type": "code",
   "execution_count": 11,
   "outputs": [
    {
     "data": {
      "text/plain": "[5, 4, 3, 2, 1]"
     },
     "execution_count": 11,
     "metadata": {},
     "output_type": "execute_result"
    }
   ],
   "source": [
    "def sorted_numbers(numbers):\n",
    "    return sorted(numbers, reverse=True)\n",
    "sorted_numbers(numbers)"
   ],
   "metadata": {
    "collapsed": false,
    "pycharm": {
     "name": "#%%\n"
    }
   }
  }
 ],
 "metadata": {
  "kernelspec": {
   "display_name": "Python 3",
   "language": "python",
   "name": "python3"
  },
  "language_info": {
   "codemirror_mode": {
    "name": "ipython",
    "version": 2
   },
   "file_extension": ".py",
   "mimetype": "text/x-python",
   "name": "python",
   "nbconvert_exporter": "python",
   "pygments_lexer": "ipython2",
   "version": "2.7.6"
  }
 },
 "nbformat": 4,
 "nbformat_minor": 0
}