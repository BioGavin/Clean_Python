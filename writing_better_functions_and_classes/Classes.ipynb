{
 "cells": [
  {
   "cell_type": "markdown",
   "source": [
    "# 类\n",
    "类结构的组成：\n",
    "- 类变量\n",
    "- \\_\\_init\\_\\_\n",
    "- Python 内置的特殊方法（\\_\\_call\\_\\_、\\_\\_repr\\_\\_等）\n",
    "- 类方法\n",
    "- 静态方法\n",
    "- 属性\n",
    "- 实例方法\n",
    "- 私有方法"
   ],
   "metadata": {
    "collapsed": false
   }
  },
  {
   "cell_type": "code",
   "execution_count": 1,
   "outputs": [],
   "source": [
    "from datetime import datetime\n",
    "\n",
    "\n",
    "class Person:\n",
    "    pass\n",
    "\n",
    "\n",
    "class Employee(Person):\n",
    "    POSITIONS = ('Superwiser', 'Manager', 'CEO', 'Founder')\n",
    "\n",
    "    def __init__(self, name, id, department):\n",
    "        self.name = name\n",
    "        self.id = id\n",
    "        self.department = department\n",
    "        self.age = None\n",
    "        self._age_last_calculated = None\n",
    "        self._recalculated_age()\n",
    "\n",
    "    def __str__(self):\n",
    "        return (\"Name: \" + self.name + \"\\nDepartment: \" + self.department)\n",
    "\n",
    "    @classmethod\n",
    "    def no_position_allowed(cls, position):\n",
    "        return [t for t in cls.POSITIONS if t != position]\n",
    "\n",
    "    @staticmethod\n",
    "    def c_positions(position):\n",
    "        return [t for t in cls.TITLES if t in position]\n",
    "\n",
    "    @property\n",
    "    def id_with_name(self):\n",
    "        return self.id, self.name\n",
    "\n",
    "    def age(self):\n",
    "        if (datetime.date.today() > self._age_last_calculated):\n",
    "            self._recalculated_age()\n",
    "        return self.age\n",
    "\n",
    "    def _recalculated_age(self):\n",
    "        today = datetime.date.today()\n",
    "        age = today.year - self.birthday.year\n",
    "        if today < datetime.date(\n",
    "                today.year, self.birthday.month,\n",
    "                self.birthday.year):\n",
    "            age -= 1\n",
    "        self.age = age\n",
    "        self._age_last_recalculated = today\n"
   ],
   "metadata": {
    "collapsed": false,
    "pycharm": {
     "name": "#%%\n"
    }
   }
  },
  {
   "cell_type": "markdown",
   "source": [
    "正确使用 @property\n",
    "@property 是 Python 获取和设置值的特性，使用 @property 时应该确保有返回值，这样写更好\n",
    "有两个可以使用 @property 的地方：隐藏在属性后面的复杂代码和对 set 属性的验证"
   ],
   "metadata": {
    "collapsed": false
   }
  },
  {
   "cell_type": "code",
   "execution_count": 39,
   "outputs": [
    {
     "data": {
      "text/plain": "50.0"
     },
     "execution_count": 39,
     "metadata": {},
     "output_type": "execute_result"
    }
   ],
   "source": [
    "class Temperature:\n",
    "    def __init__(self, temperature=0):\n",
    "        self.temperature = temperature\n",
    "\n",
    "    @property\n",
    "    def fahrenheit(self):\n",
    "        return self._temperature\n",
    "\n",
    "    @fahrenheit.setter\n",
    "    def fahrenheit(self, temp):\n",
    "        if not isinstance(temp, int):\n",
    "            raise (\"Wrong input type\")\n",
    "        self._temperature = (temp * 1.8) + 32\n",
    "\n",
    "\n",
    "temp = Temperature()\n",
    "temp.fahrenheit = 10\n",
    "temp.fahrenheit"
   ],
   "metadata": {
    "collapsed": false,
    "pycharm": {
     "name": "#%%\n"
    }
   }
  },
  {
   "cell_type": "markdown",
   "source": [
    "什么时候使用静态方法\n",
    "静态方法中不能使用 self 或 cls，这些方法可以独立工作，而不依赖于类的状态\n",
    "为什么要把静态方法放在类中\n",
    "与类相关的方法设为静态方法，这样更有利于代码的条理清晰，有助于代码的理解"
   ],
   "metadata": {
    "collapsed": false
   }
  },
  {
   "cell_type": "code",
   "execution_count": 44,
   "outputs": [],
   "source": [
    "class BookPriceCalculator:\n",
    "    PER_PAGE_PRICE = 8\n",
    "\n",
    "    def __init__(self, pages, author):\n",
    "        self.pages = pages\n",
    "        self.author = author\n",
    "\n",
    "    @property\n",
    "    def standard_price(self):\n",
    "        return self.pages * PER_PAGE_PRICE\n",
    "\n",
    "    @staticmethod\n",
    "    def price_to_book_ratio(market_price_per_share, book_value_per_share):\n",
    "        return market_price_per_share / book_value_per_share"
   ],
   "metadata": {
    "collapsed": false,
    "pycharm": {
     "name": "#%%\n"
    }
   }
  },
  {
   "cell_type": "markdown",
   "source": [
    "继承抽象类\n",
    "在接口中使用抽象类的主要目的：\n",
    "- 可以使用抽象来创建接口类\n",
    "- 如果不实现抽象方法，就不能使用接口\n",
    "- 如果不坚持抽象类规则的话，就会产生错误"
   ],
   "metadata": {
    "collapsed": false
   }
  },
  {
   "cell_type": "code",
   "execution_count": 46,
   "outputs": [
    {
     "ename": "TypeError",
     "evalue": "Fruit() takes no arguments",
     "output_type": "error",
     "traceback": [
      "\u001B[0;31m---------------------------------------------------------------------------\u001B[0m",
      "\u001B[0;31mTypeError\u001B[0m                                 Traceback (most recent call last)",
      "\u001B[0;32m/var/folders/3c/v18vsqt50jzgnmgzv858z_rm0000gn/T/ipykernel_11633/1069738506.py\u001B[0m in \u001B[0;36m<module>\u001B[0;34m\u001B[0m\n\u001B[1;32m     18\u001B[0m \u001B[0;34m\u001B[0m\u001B[0m\n\u001B[1;32m     19\u001B[0m \u001B[0;34m\u001B[0m\u001B[0m\n\u001B[0;32m---> 20\u001B[0;31m \u001B[0mfruit\u001B[0m \u001B[0;34m=\u001B[0m \u001B[0mFruit\u001B[0m\u001B[0;34m(\u001B[0m\u001B[0;34m\"apple\"\u001B[0m\u001B[0;34m)\u001B[0m\u001B[0;34m\u001B[0m\u001B[0;34m\u001B[0m\u001B[0m\n\u001B[0m",
      "\u001B[0;31mTypeError\u001B[0m: Fruit() takes no arguments"
     ]
    }
   ],
   "source": [
    "from abc import ABCMeta, abstractmethod\n",
    "\n",
    "\n",
    "class Fruit(metaclass=ABCMeta):\n",
    "\n",
    "    @abstractmethod\n",
    "    def taste(self):\n",
    "        pass\n",
    "\n",
    "    @abstractmethod\n",
    "    def originated(self):\n",
    "        pass\n",
    "\n",
    "\n",
    "class Apple:\n",
    "    def originated(self):\n",
    "        return \"Central Asia\"\n",
    "\n",
    "\n",
    "fruit = Fruit(\"apple\")"
   ],
   "metadata": {
    "collapsed": false,
    "pycharm": {
     "name": "#%%\n"
    }
   }
  },
  {
   "cell_type": "markdown",
   "source": [
    "使用 @classmethod 来访问类的状态\n",
    "使用 @staticmethod 或 @classmethod 可以不用实例化类，直接调用类方法"
   ],
   "metadata": {
    "collapsed": false
   }
  },
  {
   "cell_type": "code",
   "execution_count": 53,
   "outputs": [
    {
     "data": {
      "text/plain": "('Larry', 'Page')"
     },
     "execution_count": 53,
     "metadata": {},
     "output_type": "execute_result"
    }
   ],
   "source": [
    "class User:\n",
    "    def __init__(self, first_name, last_name):\n",
    "        self.first_name = first_name\n",
    "        self.last_name = last_name\n",
    "\n",
    "    @classmethod\n",
    "    def using_string(cls, names_str):\n",
    "        first, second = map(str, names_str.split(\" \"))\n",
    "        Student = cls(first, second)\n",
    "        return Student\n",
    "\n",
    "    @classmethod\n",
    "    def using_json(cls, obj_json):\n",
    "        # parsing json object...\n",
    "        return Student\n",
    "\n",
    "    @classmethod\n",
    "    def using_file_obj(cls, file_obj):\n",
    "        # parsing file object\n",
    "        return Student\n",
    "\n",
    "\n",
    "data = User.using_string(\"Larry Page\")\n",
    "data.first_name, data.last_name"
   ],
   "metadata": {
    "collapsed": false,
    "pycharm": {
     "name": "#%%\n"
    }
   }
  },
  {
   "cell_type": "markdown",
   "source": [
    "使用公有属性代替私有属性\n",
    "Python 并没有私有属性的概念，但仍可以看到使用 `_<var_name>` 变量名来将方法标记为私有的代码"
   ],
   "metadata": {
    "collapsed": false
   }
  },
  {
   "cell_type": "code",
   "execution_count": 1,
   "outputs": [
    {
     "ename": "TypeError",
     "evalue": "__init__() missing 2 required positional arguments: 'first_name' and 'last_name'",
     "output_type": "error",
     "traceback": [
      "\u001B[0;31m---------------------------------------------------------------------------\u001B[0m",
      "\u001B[0;31mTypeError\u001B[0m                                 Traceback (most recent call last)",
      "\u001B[0;32m/var/folders/3c/v18vsqt50jzgnmgzv858z_rm0000gn/T/ipykernel_95740/1650170518.py\u001B[0m in \u001B[0;36m<module>\u001B[0;34m\u001B[0m\n\u001B[1;32m     14\u001B[0m \u001B[0;34m\u001B[0m\u001B[0m\n\u001B[1;32m     15\u001B[0m \u001B[0;34m\u001B[0m\u001B[0m\n\u001B[0;32m---> 16\u001B[0;31m \u001B[0mch\u001B[0m \u001B[0;34m=\u001B[0m \u001B[0mChild\u001B[0m\u001B[0;34m(\u001B[0m\u001B[0;34m)\u001B[0m\u001B[0;34m\u001B[0m\u001B[0;34m\u001B[0m\u001B[0m\n\u001B[0m\u001B[1;32m     17\u001B[0m \u001B[0mprint\u001B[0m\u001B[0;34m(\u001B[0m\u001B[0mch\u001B[0m\u001B[0;34m.\u001B[0m\u001B[0mget\u001B[0m\u001B[0;34m(\u001B[0m\u001B[0;34m)\u001B[0m\u001B[0;34m)\u001B[0m\u001B[0;34m\u001B[0m\u001B[0;34m\u001B[0m\u001B[0m\n\u001B[1;32m     18\u001B[0m \u001B[0mprint\u001B[0m\u001B[0;34m(\u001B[0m\u001B[0mch\u001B[0m\u001B[0;34m.\u001B[0m\u001B[0m__age\u001B[0m\u001B[0;34m)\u001B[0m\u001B[0;34m\u001B[0m\u001B[0;34m\u001B[0m\u001B[0m\n",
      "\u001B[0;32m/var/folders/3c/v18vsqt50jzgnmgzv858z_rm0000gn/T/ipykernel_95740/1650170518.py\u001B[0m in \u001B[0;36m__init__\u001B[0;34m(self)\u001B[0m\n\u001B[1;32m     10\u001B[0m \u001B[0;32mclass\u001B[0m \u001B[0mChild\u001B[0m\u001B[0;34m(\u001B[0m\u001B[0mPerson\u001B[0m\u001B[0;34m)\u001B[0m\u001B[0;34m:\u001B[0m\u001B[0;34m\u001B[0m\u001B[0;34m\u001B[0m\u001B[0m\n\u001B[1;32m     11\u001B[0m     \u001B[0;32mdef\u001B[0m \u001B[0m__init__\u001B[0m\u001B[0;34m(\u001B[0m\u001B[0mself\u001B[0m\u001B[0;34m)\u001B[0m\u001B[0;34m:\u001B[0m\u001B[0;34m\u001B[0m\u001B[0;34m\u001B[0m\u001B[0m\n\u001B[0;32m---> 12\u001B[0;31m         \u001B[0msuper\u001B[0m\u001B[0;34m(\u001B[0m\u001B[0;34m)\u001B[0m\u001B[0;34m.\u001B[0m\u001B[0m__init__\u001B[0m\u001B[0;34m(\u001B[0m\u001B[0;34m)\u001B[0m\u001B[0;34m\u001B[0m\u001B[0;34m\u001B[0m\u001B[0m\n\u001B[0m\u001B[1;32m     13\u001B[0m         \u001B[0mself\u001B[0m\u001B[0;34m.\u001B[0m\u001B[0m__age\u001B[0m \u001B[0;34m=\u001B[0m \u001B[0;36m20\u001B[0m\u001B[0;34m\u001B[0m\u001B[0;34m\u001B[0m\u001B[0m\n\u001B[1;32m     14\u001B[0m \u001B[0;34m\u001B[0m\u001B[0m\n",
      "\u001B[0;31mTypeError\u001B[0m: __init__() missing 2 required positional arguments: 'first_name' and 'last_name'"
     ]
    }
   ],
   "source": [
    "class Person:\n",
    "    def __init__(self, first_name, last_name):\n",
    "        self.age = 50\n",
    "        self.full_name = f\"${first_name} ${last_name}\"\n",
    "\n",
    "    def get_name(self):\n",
    "        return self.full_name\n",
    "\n",
    "\n",
    "class Child(Person):\n",
    "    def __init__(self):\n",
    "        super().__init__()\n",
    "        self.__age = 20\n",
    "\n",
    "\n",
    "ch = Child()\n",
    "print(ch.get())\n",
    "print(ch.__age)"
   ],
   "metadata": {
    "collapsed": false,
    "pycharm": {
     "name": "#%%\n"
    }
   }
  }
 ],
 "metadata": {
  "kernelspec": {
   "display_name": "Python 3",
   "language": "python",
   "name": "python3"
  },
  "language_info": {
   "codemirror_mode": {
    "name": "ipython",
    "version": 2
   },
   "file_extension": ".py",
   "mimetype": "text/x-python",
   "name": "python",
   "nbconvert_exporter": "python",
   "pygments_lexer": "ipython2",
   "version": "2.7.6"
  }
 },
 "nbformat": 4,
 "nbformat_minor": 0
}